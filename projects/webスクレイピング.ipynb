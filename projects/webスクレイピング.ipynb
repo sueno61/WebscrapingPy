{
 "cells": [
  {
   "cell_type": "code",
   "execution_count": 1,
   "id": "48230e70-73ae-47e0-8fdb-541dd3330872",
   "metadata": {},
   "outputs": [],
   "source": [
    "# !pip install selenium"
   ]
  },
  {
   "cell_type": "code",
   "execution_count": 2,
   "id": "cdecddae-bbdc-4e80-bb6f-d7afdb4b597f",
   "metadata": {},
   "outputs": [],
   "source": [
    "# !brew install chromedriver"
   ]
  },
  {
   "cell_type": "code",
   "execution_count": 1,
   "id": "84952a13-07ad-44af-a8f5-31da44d2f2b1",
   "metadata": {},
   "outputs": [],
   "source": [
    "from selenium import webdriver"
   ]
  },
  {
   "cell_type": "code",
   "execution_count": 2,
   "id": "17cc33f1-6b8e-42ba-837a-ce5051a4f7e9",
   "metadata": {},
   "outputs": [],
   "source": [
    "from time import sleep"
   ]
  },
  {
   "cell_type": "code",
   "execution_count": null,
   "id": "d38501dc-667b-4dd6-91a7-649fafb37692",
   "metadata": {},
   "outputs": [],
   "source": []
  },
  {
   "cell_type": "code",
   "execution_count": 3,
   "id": "d985a553-bcac-4f96-a19c-513e06aa46e1",
   "metadata": {},
   "outputs": [],
   "source": [
    "browser = webdriver.Chrome()  # Chromeが起動される！　（browser.quit()で閉じる）"
   ]
  },
  {
   "cell_type": "code",
   "execution_count": 4,
   "id": "49bed3f1-80d9-4392-b724-a19a46ddefee",
   "metadata": {},
   "outputs": [],
   "source": [
    "# 都度、最適なドライバーをインストールするパターン（windowsで、うまくいかない時）\n",
    "\n",
    "# !pip install webdriver_manager\n",
    "# from webdriver_manager.chrome import ChromeDriverManager\n",
    "# browser = webdriver.Chrome(ChromeDriverManager().install())"
   ]
  },
  {
   "cell_type": "code",
   "execution_count": 5,
   "id": "fc376495-2192-4529-b643-2c99f41261ae",
   "metadata": {},
   "outputs": [],
   "source": [
    "# browser.get('https://www.google.com')"
   ]
  },
  {
   "cell_type": "code",
   "execution_count": 6,
   "id": "dbeeedf0-490c-4e67-8469-0ecf38f48e03",
   "metadata": {},
   "outputs": [],
   "source": [
    "url = 'https://scraping-for-beginner.herokuapp.com/login_page'  # login page\n",
    "browser.get(url)"
   ]
  },
  {
   "cell_type": "code",
   "execution_count": 7,
   "id": "7fd9f4ea-f14a-42a5-b822-702843fa7128",
   "metadata": {},
   "outputs": [],
   "source": [
    "elem_username = browser.find_element(by='id', value='username')\n",
    "elem_username.send_keys('imanishi')"
   ]
  },
  {
   "cell_type": "code",
   "execution_count": 8,
   "id": "ebbd8e6e-4633-45ff-9ad9-ea017f0606f2",
   "metadata": {},
   "outputs": [],
   "source": [
    "elem_passwd = browser.find_element(by='id', value='password')\n",
    "elem_passwd.send_keys('kohei')"
   ]
  },
  {
   "cell_type": "code",
   "execution_count": 9,
   "id": "58cb5e46-0d81-4d4a-9956-e729fb1467c3",
   "metadata": {},
   "outputs": [],
   "source": [
    "elem_login_btn = browser.find_element(by='id', value='login-btn')\n",
    "elem_login_btn.click()"
   ]
  },
  {
   "cell_type": "code",
   "execution_count": 10,
   "id": "cbaad3f7-005a-4b35-8079-ec3eb024cad1",
   "metadata": {},
   "outputs": [],
   "source": [
    "browser.quit()"
   ]
  },
  {
   "cell_type": "code",
   "execution_count": null,
   "id": "bac65578-36da-4487-9afd-0a2d22e4bcf7",
   "metadata": {},
   "outputs": [],
   "source": []
  },
  {
   "cell_type": "code",
   "execution_count": 11,
   "id": "16a7e235-74c5-4772-b5a8-cc51c5e09920",
   "metadata": {},
   "outputs": [],
   "source": [
    "browser = webdriver.Chrome()\n",
    "url = 'https://scraping-for-beginner.herokuapp.com/login_page'  # login page\n",
    "browser.get(url)\n",
    "sleep(3)\n",
    "\n",
    "elem_username = browser.find_element(by='id', value='username')\n",
    "elem_username.send_keys('imanishi')\n",
    "\n",
    "elem_passwd = browser.find_element(by='id', value='password')\n",
    "elem_passwd.send_keys('kohei')\n",
    "\n",
    "sleep(1)\n",
    "elem_login_btn = browser.find_element(by='id', value='login-btn')\n",
    "elem_login_btn.click()"
   ]
  },
  {
   "cell_type": "code",
   "execution_count": null,
   "id": "db81e07c-2d0c-4fd3-a87d-cfe99f6bfee3",
   "metadata": {},
   "outputs": [],
   "source": []
  },
  {
   "cell_type": "markdown",
   "id": "332e7c7e-f87b-449b-9840-6cc3b7740f1c",
   "metadata": {},
   "source": [
    "headless mode"
   ]
  },
  {
   "cell_type": "code",
   "execution_count": 17,
   "id": "f1f829a1-7cbf-4345-b6f3-be0bfa3a2717",
   "metadata": {},
   "outputs": [],
   "source": [
    "from selenium.webdriver.chrome.options import Options"
   ]
  },
  {
   "cell_type": "code",
   "execution_count": 18,
   "id": "9de64467-ad5e-405a-88ce-099f1983118f",
   "metadata": {},
   "outputs": [],
   "source": [
    "options = Options()\n",
    "options.add_argument('--headless')"
   ]
  },
  {
   "cell_type": "code",
   "execution_count": 19,
   "id": "20455c21-3f9c-41b2-be48-1ed897f33bc3",
   "metadata": {},
   "outputs": [],
   "source": [
    "browser = webdriver.Chrome(options=options)\n",
    "url = 'https://scraping-for-beginner.herokuapp.com/login_page'  # login page\n",
    "browser.get(url)"
   ]
  },
  {
   "cell_type": "code",
   "execution_count": 20,
   "id": "fdf634d1-76e4-47b2-8c0d-3d351fafcbc9",
   "metadata": {},
   "outputs": [],
   "source": [
    "elem_username = browser.find_element(by='id', value='username')\n",
    "elem_username.send_keys('imanishi')"
   ]
  },
  {
   "cell_type": "code",
   "execution_count": 21,
   "id": "8ec1f96d-9846-4aa1-8748-5c42a93ea4a2",
   "metadata": {},
   "outputs": [],
   "source": [
    "browser.quit()"
   ]
  },
  {
   "cell_type": "code",
   "execution_count": null,
   "id": "dab28847-dc53-44f4-85ad-ed8c78dd09a4",
   "metadata": {},
   "outputs": [],
   "source": []
  },
  {
   "cell_type": "markdown",
   "id": "67f2b26b-5620-4e4e-9253-6a8af7df5580",
   "metadata": {},
   "source": [
    "# テキストデータの取得"
   ]
  },
  {
   "cell_type": "code",
   "execution_count": null,
   "id": "c49df63e-a60e-4e50-b507-ed39021c3a5e",
   "metadata": {},
   "outputs": [],
   "source": [
    "from selenium import webdriver"
   ]
  },
  {
   "cell_type": "markdown",
   "id": "cc01b15f-d2cf-4529-962d-8abbc3e7ee13",
   "metadata": {},
   "source": [
    "ログインページにアクセス"
   ]
  },
  {
   "cell_type": "code",
   "execution_count": 57,
   "id": "9d217a80-43fa-4c30-84c1-b63e09dfff21",
   "metadata": {},
   "outputs": [],
   "source": [
    "browser = webdriver.Chrome()\n",
    "url = 'https://scraping-for-beginner.herokuapp.com/login_page'\n",
    "browser.get(url)"
   ]
  },
  {
   "cell_type": "markdown",
   "id": "06aa6e7f-5441-4ad2-b397-429a704612d3",
   "metadata": {},
   "source": [
    "ユーザ名とパスワードを入力"
   ]
  },
  {
   "cell_type": "code",
   "execution_count": 58,
   "id": "6c8ed4ee-957a-420c-9c37-ffec43ddff90",
   "metadata": {},
   "outputs": [],
   "source": [
    "elem_username = browser.find_element(by='id', value='username')\n",
    "elem_username.send_keys('imanishi')\n",
    "\n",
    "elem_passwd = browser.find_element(by='id', value='password')\n",
    "elem_passwd.send_keys('kohei')"
   ]
  },
  {
   "cell_type": "markdown",
   "id": "679b6ece-4377-4aac-a80f-4d1872248a1f",
   "metadata": {},
   "source": [
    "ログインボタン"
   ]
  },
  {
   "cell_type": "code",
   "execution_count": 59,
   "id": "6435a35f-c44f-480c-94e5-594474943f21",
   "metadata": {},
   "outputs": [],
   "source": [
    "elem_login_btn = browser.find_element(by='id', value='login-btn')\n",
    "elem_login_btn.click()"
   ]
  },
  {
   "cell_type": "markdown",
   "id": "c1a667ae-4e48-40a1-9d43-5ec6ecc10cbb",
   "metadata": {},
   "source": [
    "text情報の取得"
   ]
  },
  {
   "cell_type": "code",
   "execution_count": 60,
   "id": "ee7e3687-fd04-44d7-a1a9-28420b807750",
   "metadata": {},
   "outputs": [],
   "source": [
    "elem = browser.find_element(by='id', value='name')\n",
    "name = elem.text"
   ]
  },
  {
   "cell_type": "code",
   "execution_count": 62,
   "id": "e9e820de-e3e1-4fc5-941c-9e0be156e686",
   "metadata": {},
   "outputs": [],
   "source": [
    "elem = browser.find_element(by='id', value='company')\n",
    "company = elem.text"
   ]
  },
  {
   "cell_type": "code",
   "execution_count": 63,
   "id": "42bf9f1d-7e42-4e5f-afe1-19a411c03eca",
   "metadata": {},
   "outputs": [],
   "source": [
    "elem = browser.find_element(by='id', value='birthday')\n",
    "birthday = elem.text"
   ]
  },
  {
   "cell_type": "code",
   "execution_count": 64,
   "id": "0a71521a-9180-4f7b-84d8-427e260eb959",
   "metadata": {},
   "outputs": [],
   "source": [
    "elem = browser.find_element(by='id', value='come_from')\n",
    "come_from = elem.text"
   ]
  },
  {
   "cell_type": "code",
   "execution_count": 65,
   "id": "d0dc5c58-93fa-4b5b-a33c-b1f548691149",
   "metadata": {},
   "outputs": [],
   "source": [
    "elem = browser.find_element(by='id', value='hobby')\n",
    "hobby = elem.text"
   ]
  },
  {
   "cell_type": "code",
   "execution_count": 69,
   "id": "3e2fb2e0-3132-483e-abf1-5ed42fdbdb32",
   "metadata": {},
   "outputs": [],
   "source": [
    "hobby = hobby.replace('\\n', ',')"
   ]
  },
  {
   "cell_type": "code",
   "execution_count": 70,
   "id": "4b54b348-2baa-41fb-9d67-74024e7fd686",
   "metadata": {},
   "outputs": [
    {
     "data": {
      "text/plain": [
       "('今西 航平', '株式会社キカガク', '1994年7月15日', '千葉県', 'バスケットボール,読書,ガジェット集め')"
      ]
     },
     "execution_count": 70,
     "metadata": {},
     "output_type": "execute_result"
    }
   ],
   "source": [
    "name, company, birthday, come_from, hobby"
   ]
  },
  {
   "cell_type": "code",
   "execution_count": 74,
   "id": "868f0947-597a-41ad-9d4a-165664dbf056",
   "metadata": {},
   "outputs": [],
   "source": [
    "elem_th = browser.find_element(by='tag name', value='th')"
   ]
  },
  {
   "cell_type": "code",
   "execution_count": 75,
   "id": "8a19b50c-1612-4ebb-a137-024353cac043",
   "metadata": {},
   "outputs": [
    {
     "data": {
      "text/plain": [
       "'講師名'"
      ]
     },
     "execution_count": 75,
     "metadata": {},
     "output_type": "execute_result"
    }
   ],
   "source": [
    "elem_th.text"
   ]
  },
  {
   "cell_type": "markdown",
   "id": "b616d672-25da-4385-8d4e-a4c9de8b7268",
   "metadata": {},
   "source": [
    "項目名をまとめて取得"
   ]
  },
  {
   "cell_type": "code",
   "execution_count": 76,
   "id": "d45b5d5a-917c-43a9-9683-524995bf3df2",
   "metadata": {},
   "outputs": [],
   "source": [
    "elems_th = browser.find_elements(by='tag name', value='th')"
   ]
  },
  {
   "cell_type": "code",
   "execution_count": 78,
   "id": "e95341de-893f-4720-96e7-400e2aa2ab6c",
   "metadata": {},
   "outputs": [
    {
     "data": {
      "text/plain": [
       "'生年月日'"
      ]
     },
     "execution_count": 78,
     "metadata": {},
     "output_type": "execute_result"
    }
   ],
   "source": [
    "elems_th[2].text"
   ]
  },
  {
   "cell_type": "code",
   "execution_count": 79,
   "id": "475b8fd9-541c-4d60-8648-d472082dd1a9",
   "metadata": {},
   "outputs": [],
   "source": [
    "keys = []\n",
    "for elem_th in elems_th:\n",
    "    key = elem_th.text\n",
    "    keys.append(key)"
   ]
  },
  {
   "cell_type": "code",
   "execution_count": 80,
   "id": "edb0187b-d938-40f5-a074-0a6c5a62adcd",
   "metadata": {},
   "outputs": [
    {
     "data": {
      "text/plain": [
       "['講師名', '所属企業', '生年月日', '出身', '趣味']"
      ]
     },
     "execution_count": 80,
     "metadata": {},
     "output_type": "execute_result"
    }
   ],
   "source": [
    "keys"
   ]
  },
  {
   "cell_type": "markdown",
   "id": "a52b010e-6cec-40f5-ac8b-0cbed7cb6cad",
   "metadata": {},
   "source": [
    "内容もまとめて取得"
   ]
  },
  {
   "cell_type": "code",
   "execution_count": 87,
   "id": "ced04962-df5c-4939-ab9c-a4212d53e77a",
   "metadata": {},
   "outputs": [],
   "source": [
    "elems_td = browser.find_elements(by='tag name', value='td')\n",
    "values = []\n",
    "for elem_td in elems_td:\n",
    "    value = elem_td.text.replace('\\n', ',')\n",
    "    values.append(value)"
   ]
  },
  {
   "cell_type": "code",
   "execution_count": 88,
   "id": "2c865da7-2465-4e20-94c6-ab786de5e235",
   "metadata": {},
   "outputs": [
    {
     "data": {
      "text/plain": [
       "['今西 航平', '株式会社キカガク', '1994年7月15日', '千葉県', 'バスケットボール,読書,ガジェット集め']"
      ]
     },
     "execution_count": 88,
     "metadata": {},
     "output_type": "execute_result"
    }
   ],
   "source": [
    "values"
   ]
  },
  {
   "cell_type": "code",
   "execution_count": null,
   "id": "97f163ef-73f9-4882-bd8d-5310bf9e394a",
   "metadata": {},
   "outputs": [],
   "source": []
  },
  {
   "cell_type": "code",
   "execution_count": 89,
   "id": "88f3dddc-3205-408e-bd5a-99958d3b6ca2",
   "metadata": {},
   "outputs": [],
   "source": [
    "import pandas as pd"
   ]
  },
  {
   "cell_type": "code",
   "execution_count": 90,
   "id": "440c768a-0fb9-4f7c-aad4-28d19884da89",
   "metadata": {},
   "outputs": [],
   "source": [
    "df=pd.DataFrame()"
   ]
  },
  {
   "cell_type": "code",
   "execution_count": 91,
   "id": "df400f21-0609-4793-9d72-3677e3fe6e54",
   "metadata": {},
   "outputs": [],
   "source": [
    "df['項目'] = keys\n",
    "df['値'] = values"
   ]
  },
  {
   "cell_type": "code",
   "execution_count": 92,
   "id": "7e21d78c-5fc2-4309-96d7-8ce104343dbc",
   "metadata": {},
   "outputs": [
    {
     "data": {
      "text/html": [
       "<div>\n",
       "<style scoped>\n",
       "    .dataframe tbody tr th:only-of-type {\n",
       "        vertical-align: middle;\n",
       "    }\n",
       "\n",
       "    .dataframe tbody tr th {\n",
       "        vertical-align: top;\n",
       "    }\n",
       "\n",
       "    .dataframe thead th {\n",
       "        text-align: right;\n",
       "    }\n",
       "</style>\n",
       "<table border=\"1\" class=\"dataframe\">\n",
       "  <thead>\n",
       "    <tr style=\"text-align: right;\">\n",
       "      <th></th>\n",
       "      <th>項目</th>\n",
       "      <th>値</th>\n",
       "    </tr>\n",
       "  </thead>\n",
       "  <tbody>\n",
       "    <tr>\n",
       "      <th>0</th>\n",
       "      <td>講師名</td>\n",
       "      <td>今西 航平</td>\n",
       "    </tr>\n",
       "    <tr>\n",
       "      <th>1</th>\n",
       "      <td>所属企業</td>\n",
       "      <td>株式会社キカガク</td>\n",
       "    </tr>\n",
       "    <tr>\n",
       "      <th>2</th>\n",
       "      <td>生年月日</td>\n",
       "      <td>1994年7月15日</td>\n",
       "    </tr>\n",
       "    <tr>\n",
       "      <th>3</th>\n",
       "      <td>出身</td>\n",
       "      <td>千葉県</td>\n",
       "    </tr>\n",
       "    <tr>\n",
       "      <th>4</th>\n",
       "      <td>趣味</td>\n",
       "      <td>バスケットボール,読書,ガジェット集め</td>\n",
       "    </tr>\n",
       "  </tbody>\n",
       "</table>\n",
       "</div>"
      ],
      "text/plain": [
       "     項目                    値\n",
       "0   講師名                今西 航平\n",
       "1  所属企業             株式会社キカガク\n",
       "2  生年月日           1994年7月15日\n",
       "3    出身                  千葉県\n",
       "4    趣味  バスケットボール,読書,ガジェット集め"
      ]
     },
     "execution_count": 92,
     "metadata": {},
     "output_type": "execute_result"
    }
   ],
   "source": [
    "df"
   ]
  },
  {
   "cell_type": "code",
   "execution_count": 93,
   "id": "ed87f82b-4201-42d6-af0d-9b6147ef7e95",
   "metadata": {},
   "outputs": [],
   "source": [
    "df.to_csv('講師情報.csv', index=False)"
   ]
  },
  {
   "cell_type": "code",
   "execution_count": null,
   "id": "7465aa11-5330-4d2b-a1d2-02b7eb2cc223",
   "metadata": {},
   "outputs": [],
   "source": []
  },
  {
   "cell_type": "markdown",
   "id": "3928e55a-eaa5-4246-9673-592c49118c38",
   "metadata": {},
   "source": [
    "# WEBページ内のテキスト\n",
    "## Beautiful Soup : htmlの構造解析で用いられる"
   ]
  },
  {
   "cell_type": "code",
   "execution_count": 94,
   "id": "b98ea3af-b172-48b0-b651-b41987d7e680",
   "metadata": {},
   "outputs": [],
   "source": [
    "# !pip install requests"
   ]
  },
  {
   "cell_type": "code",
   "execution_count": null,
   "id": "4f593e6e-e938-426c-8a91-4d13353e7501",
   "metadata": {},
   "outputs": [],
   "source": [
    "# !pip install BeautifulSoup4"
   ]
  },
  {
   "cell_type": "code",
   "execution_count": 97,
   "id": "f6beff73-a2dc-4240-af2f-177583b9f4f9",
   "metadata": {},
   "outputs": [],
   "source": [
    "import requests\n",
    "from bs4 import BeautifulSoup"
   ]
  },
  {
   "cell_type": "code",
   "execution_count": 101,
   "id": "19e642d4-9e33-41ed-b5a6-cd68591c2f39",
   "metadata": {},
   "outputs": [],
   "source": [
    "url = 'https://scraping-for-beginner.herokuapp.com/udemy'\n",
    "res = requests.get(url)"
   ]
  },
  {
   "cell_type": "code",
   "execution_count": 102,
   "id": "49dcf034-b912-445b-b1d8-fcb7ff89af2d",
   "metadata": {},
   "outputs": [
    {
     "data": {
      "text/plain": [
       "<Response [200]>"
      ]
     },
     "execution_count": 102,
     "metadata": {},
     "output_type": "execute_result"
    }
   ],
   "source": [
    "res"
   ]
  },
  {
   "cell_type": "code",
   "execution_count": 103,
   "id": "a698f510-964f-4f71-b705-250e88591c4e",
   "metadata": {
    "scrolled": true,
    "tags": []
   },
   "outputs": [
    {
     "data": {
      "text/plain": [
       "'<!DOCTYPE html>\\n<html lang=\"en\" dir=\"ltr\">\\n<head>\\n  <meta charset=\"utf-8\">\\n  <title>Webスクレイピング入門者のためのサイト</title>\\n  <!-- Compiled and minified CSS -->\\n  <link rel=\"stylesheet\" href=\"https://cdnjs.cloudflare.com/ajax/libs/materialize/1.0.0-rc.2/css/materialize.min.css\">\\n  <link href=\"https://fonts.googleapis.com/icon?family=Material+Icons\" rel=\"stylesheet\"> \\x08\\n  <link rel=\"stylesheet\" href=\"static/assets/css/style.css\">\\n  <link rel=\"stylesheet\" href=\"static/assets/css/udemy.css\">\\n  <!-- <link rel=\"stylesheet\" href=\"static/assets/css/mypage.css\"> -->\\n</head>\\n\\n<body>\\n  <!-- Navbar -->\\n  <div class=\"navbar-fixed\">\\n    <!-- Dropdown Structure -->\\n    <nav class=\"\">\\n      <div class=\"nav-wrapper row\">\\n        <div class=\"col s5 l4 offset-s1 offset-l1\">\\n          <a href=\"\\x08/\" class=\"brand-logo\">Webスクレイピング入門</a>\\n        </div>\\n        <div class=\"col s5 l6\">\\n          <ul id=\"nav-mobile\" class=\"right hide-on-med-and-down\">\\n            <li><a href=\"\\x08/login_page\" class=\"\">ログイン</a></li>\\n            <li><a href=\"/ranking/\" class=\"\">ランキング</a></li>\\n            <li><a href=\"/image\" class=\"\">画像</a></li>\\n            <li><a href=\"/udemy\" class=\"\">Udemy</a></li>\\n            <li><a href=\"https://scraping-for-beginner.readthedocs.io/\" target=”_blank” class=\"\">サンプルコード</a></li>\\n          </ul>\\n        </div>\\n      </div>\\n    </nav>\\n  </div>\\n\\n  \\n\\n<div class=\"row\">\\n  <div class=\"col s4 offset-s4\">\\n    <div class=\"overview\">\\n      <p>\\n      こちらのページは、<b>PythonによるWebスクレイピング〜Webアプリケーション編〜</b>で使用します。\\n      </p>\\n    </div>\\n    <div class=\"\">\\n      <div class=\"\">\\n        <div class=\"card\">\\n          <div class=\"card-image\">\\n            <img src=\"/static/assets/img/self-introduction.jpg\">\\n            <span class=\"card-title\">今西 航平</span>\\n          </div>\\n          <div class=\"card-content\">\\n            <p><b><p class=\"position\">株式会社キカガク 取締役副社長</p></b><br>\\n\\n              東京理科大学在学中に株式会社キカガクに1人目の正社員としてジョイン。大学時代4年間、塾講師として「教育」に熱中し、300名以上の中高生の授業を担当。<br>\\n\\n            </p>\\n          </div>\\n          <div class=\"card-action\">\\n              <p class=\"subscribers\">受講生の数：14348</p>\\n              <p class=\"reviews\">レビューの数：2506</p>\\n          </div>\\n        </div>\\n      </div>\\n    </div>\\n\\n  </div>\\n</div>\\n\\n\\n  <!-- Compiled and minified JavaScript -->\\n  <script src=\"https://code.jquery.com/jquery-3.3.1.min.js\"></script>\\n  <script src=\"https://cdnjs.cloudflare.com/ajax/libs/materialize/1.0.0-rc.2/js/materialize.min.js\"></script>\\n  <script type=\"text/javascript\">\\n    $(document).ready(function() {\\n      $(\".dropdown-trigger\").dropdown();\\n    });\\n  </script>\\n\\n\\n</body>\\n\\n</html>'"
      ]
     },
     "execution_count": 103,
     "metadata": {},
     "output_type": "execute_result"
    }
   ],
   "source": [
    "res.text"
   ]
  },
  {
   "cell_type": "markdown",
   "id": "112b4cd0-e18e-419c-bdb1-427e9695796c",
   "metadata": {},
   "source": [
    "見やすく加工"
   ]
  },
  {
   "cell_type": "code",
   "execution_count": 107,
   "id": "75f3f842-7f44-413b-80b6-b78f47552322",
   "metadata": {
    "scrolled": true,
    "tags": []
   },
   "outputs": [
    {
     "data": {
      "text/plain": [
       "<!DOCTYPE html>\n",
       "\n",
       "<html dir=\"ltr\" lang=\"en\">\n",
       "<head>\n",
       "<meta charset=\"utf-8\"/>\n",
       "<title>Webスクレイピング入門者のためのサイト</title>\n",
       "<!-- Compiled and minified CSS -->\n",
       "<link href=\"https://cdnjs.cloudflare.com/ajax/libs/materialize/1.0.0-rc.2/css/materialize.min.css\" rel=\"stylesheet\"/>\n",
       "<link href=\"https://fonts.googleapis.com/icon?family=Material+Icons\" rel=\"stylesheet\"/> \b\n",
       "  <link href=\"static/assets/css/style.css\" rel=\"stylesheet\"/>\n",
       "<link href=\"static/assets/css/udemy.css\" rel=\"stylesheet\"/>\n",
       "<!-- <link rel=\"stylesheet\" href=\"static/assets/css/mypage.css\"> -->\n",
       "</head>\n",
       "<body>\n",
       "<!-- Navbar -->\n",
       "<div class=\"navbar-fixed\">\n",
       "<!-- Dropdown Structure -->\n",
       "<nav class=\"\">\n",
       "<div class=\"nav-wrapper row\">\n",
       "<div class=\"col s5 l4 offset-s1 offset-l1\">\n",
       "<a class=\"brand-logo\" href=\"\b/\">Webスクレイピング入門</a>\n",
       "</div>\n",
       "<div class=\"col s5 l6\">\n",
       "<ul class=\"right hide-on-med-and-down\" id=\"nav-mobile\">\n",
       "<li><a class=\"\" href=\"\b/login_page\">ログイン</a></li>\n",
       "<li><a class=\"\" href=\"/ranking/\">ランキング</a></li>\n",
       "<li><a class=\"\" href=\"/image\">画像</a></li>\n",
       "<li><a class=\"\" href=\"/udemy\">Udemy</a></li>\n",
       "<li><a class=\"\" href=\"https://scraping-for-beginner.readthedocs.io/\" target=\"”_blank”\">サンプルコード</a></li>\n",
       "</ul>\n",
       "</div>\n",
       "</div>\n",
       "</nav>\n",
       "</div>\n",
       "<div class=\"row\">\n",
       "<div class=\"col s4 offset-s4\">\n",
       "<div class=\"overview\">\n",
       "<p>\n",
       "      こちらのページは、<b>PythonによるWebスクレイピング〜Webアプリケーション編〜</b>で使用します。\n",
       "      </p>\n",
       "</div>\n",
       "<div class=\"\">\n",
       "<div class=\"\">\n",
       "<div class=\"card\">\n",
       "<div class=\"card-image\">\n",
       "<img src=\"/static/assets/img/self-introduction.jpg\"/>\n",
       "<span class=\"card-title\">今西 航平</span>\n",
       "</div>\n",
       "<div class=\"card-content\">\n",
       "<p><b><p class=\"position\">株式会社キカガク 取締役副社長</p></b><br/>\n",
       "\n",
       "              東京理科大学在学中に株式会社キカガクに1人目の正社員としてジョイン。大学時代4年間、塾講師として「教育」に熱中し、300名以上の中高生の授業を担当。<br/>\n",
       "</p>\n",
       "</div>\n",
       "<div class=\"card-action\">\n",
       "<p class=\"subscribers\">受講生の数：14348</p>\n",
       "<p class=\"reviews\">レビューの数：2506</p>\n",
       "</div>\n",
       "</div>\n",
       "</div>\n",
       "</div>\n",
       "</div>\n",
       "</div>\n",
       "<!-- Compiled and minified JavaScript -->\n",
       "<script src=\"https://code.jquery.com/jquery-3.3.1.min.js\"></script>\n",
       "<script src=\"https://cdnjs.cloudflare.com/ajax/libs/materialize/1.0.0-rc.2/js/materialize.min.js\"></script>\n",
       "<script type=\"text/javascript\">\n",
       "    $(document).ready(function() {\n",
       "      $(\".dropdown-trigger\").dropdown();\n",
       "    });\n",
       "  </script>\n",
       "</body>\n",
       "</html>"
      ]
     },
     "execution_count": 107,
     "metadata": {},
     "output_type": "execute_result"
    }
   ],
   "source": [
    "soup = BeautifulSoup(res.text, 'html.parser')\n",
    "soup"
   ]
  },
  {
   "cell_type": "code",
   "execution_count": 108,
   "id": "ed32de5d-dfff-4c9f-8b3d-dbe3c75ec79a",
   "metadata": {
    "scrolled": true,
    "tags": []
   },
   "outputs": [
    {
     "name": "stdout",
     "output_type": "stream",
     "text": [
      "<!DOCTYPE html>\n",
      "<html dir=\"ltr\" lang=\"en\">\n",
      " <head>\n",
      "  <meta charset=\"utf-8\"/>\n",
      "  <title>\n",
      "   Webスクレイピング入門者のためのサイト\n",
      "  </title>\n",
      "  <!-- Compiled and minified CSS -->\n",
      "  <link href=\"https://cdnjs.cloudflare.com/ajax/libs/materialize/1.0.0-rc.2/css/materialize.min.css\" rel=\"stylesheet\"/>\n",
      "  <link href=\"https://fonts.googleapis.com/icon?family=Material+Icons\" rel=\"stylesheet\"/>\n",
      " \n",
      "  <link href=\"static/assets/css/style.css\" rel=\"stylesheet\"/>\n",
      "  <link href=\"static/assets/css/udemy.css\" rel=\"stylesheet\"/>\n",
      "  <!-- <link rel=\"stylesheet\" href=\"static/assets/css/mypage.css\"> -->\n",
      " </head>\n",
      " <body>\n",
      "  <!-- Navbar -->\n",
      "  <div class=\"navbar-fixed\">\n",
      "   <!-- Dropdown Structure -->\n",
      "   <nav class=\"\">\n",
      "    <div class=\"nav-wrapper row\">\n",
      "     <div class=\"col s5 l4 offset-s1 offset-l1\">\n",
      "      <a class=\"brand-logo\" href=/\">\n",
      "       Webスクレイピング入門\n",
      "      </a>\n",
      "     </div>\n",
      "     <div class=\"col s5 l6\">\n",
      "      <ul class=\"right hide-on-med-and-down\" id=\"nav-mobile\">\n",
      "       <li>\n",
      "        <a class=\"\" href=/login_page\">\n",
      "         ログイン\n",
      "        </a>\n",
      "       </li>\n",
      "       <li>\n",
      "        <a class=\"\" href=\"/ranking/\">\n",
      "         ランキング\n",
      "        </a>\n",
      "       </li>\n",
      "       <li>\n",
      "        <a class=\"\" href=\"/image\">\n",
      "         画像\n",
      "        </a>\n",
      "       </li>\n",
      "       <li>\n",
      "        <a class=\"\" href=\"/udemy\">\n",
      "         Udemy\n",
      "        </a>\n",
      "       </li>\n",
      "       <li>\n",
      "        <a class=\"\" href=\"https://scraping-for-beginner.readthedocs.io/\" target=\"”_blank”\">\n",
      "         サンプルコード\n",
      "        </a>\n",
      "       </li>\n",
      "      </ul>\n",
      "     </div>\n",
      "    </div>\n",
      "   </nav>\n",
      "  </div>\n",
      "  <div class=\"row\">\n",
      "   <div class=\"col s4 offset-s4\">\n",
      "    <div class=\"overview\">\n",
      "     <p>\n",
      "      こちらのページは、\n",
      "      <b>\n",
      "       PythonによるWebスクレイピング〜Webアプリケーション編〜\n",
      "      </b>\n",
      "      で使用します。\n",
      "     </p>\n",
      "    </div>\n",
      "    <div class=\"\">\n",
      "     <div class=\"\">\n",
      "      <div class=\"card\">\n",
      "       <div class=\"card-image\">\n",
      "        <img src=\"/static/assets/img/self-introduction.jpg\"/>\n",
      "        <span class=\"card-title\">\n",
      "         今西 航平\n",
      "        </span>\n",
      "       </div>\n",
      "       <div class=\"card-content\">\n",
      "        <p>\n",
      "         <b>\n",
      "          <p class=\"position\">\n",
      "           株式会社キカガク 取締役副社長\n",
      "          </p>\n",
      "         </b>\n",
      "         <br/>\n",
      "         東京理科大学在学中に株式会社キカガクに1人目の正社員としてジョイン。大学時代4年間、塾講師として「教育」に熱中し、300名以上の中高生の授業を担当。\n",
      "         <br/>\n",
      "        </p>\n",
      "       </div>\n",
      "       <div class=\"card-action\">\n",
      "        <p class=\"subscribers\">\n",
      "         受講生の数：14348\n",
      "        </p>\n",
      "        <p class=\"reviews\">\n",
      "         レビューの数：2506\n",
      "        </p>\n",
      "       </div>\n",
      "      </div>\n",
      "     </div>\n",
      "    </div>\n",
      "   </div>\n",
      "  </div>\n",
      "  <!-- Compiled and minified JavaScript -->\n",
      "  <script src=\"https://code.jquery.com/jquery-3.3.1.min.js\">\n",
      "  </script>\n",
      "  <script src=\"https://cdnjs.cloudflare.com/ajax/libs/materialize/1.0.0-rc.2/js/materialize.min.js\">\n",
      "  </script>\n",
      "  <script type=\"text/javascript\">\n",
      "   $(document).ready(function() {\n",
      "      $(\".dropdown-trigger\").dropdown();\n",
      "    });\n",
      "  </script>\n",
      " </body>\n",
      "</html>\n"
     ]
    }
   ],
   "source": [
    "print(soup.prettify())"
   ]
  },
  {
   "cell_type": "code",
   "execution_count": null,
   "id": "ea11ca32-caf1-4231-9e50-a85cbabc32b4",
   "metadata": {},
   "outputs": [],
   "source": []
  },
  {
   "cell_type": "code",
   "execution_count": 109,
   "id": "c1617faa-c6a3-4334-9e35-575d0566cc9a",
   "metadata": {},
   "outputs": [
    {
     "data": {
      "text/plain": [
       "[<p>\n",
       "       こちらのページは、<b>PythonによるWebスクレイピング〜Webアプリケーション編〜</b>で使用します。\n",
       "       </p>,\n",
       " <p><b><p class=\"position\">株式会社キカガク 取締役副社長</p></b><br/>\n",
       " \n",
       "               東京理科大学在学中に株式会社キカガクに1人目の正社員としてジョイン。大学時代4年間、塾講師として「教育」に熱中し、300名以上の中高生の授業を担当。<br/>\n",
       " </p>,\n",
       " <p class=\"position\">株式会社キカガク 取締役副社長</p>,\n",
       " <p class=\"subscribers\">受講生の数：14348</p>,\n",
       " <p class=\"reviews\">レビューの数：2506</p>]"
      ]
     },
     "execution_count": 109,
     "metadata": {},
     "output_type": "execute_result"
    }
   ],
   "source": [
    "soup.find_all('p')"
   ]
  },
  {
   "cell_type": "code",
   "execution_count": 111,
   "id": "c2117d36-5c50-4a08-aa66-95f4578fa2d9",
   "metadata": {},
   "outputs": [
    {
     "data": {
      "text/plain": [
       "<p>\n",
       "      こちらのページは、<b>PythonによるWebスクレイピング〜Webアプリケーション編〜</b>で使用します。\n",
       "      </p>"
      ]
     },
     "execution_count": 111,
     "metadata": {},
     "output_type": "execute_result"
    }
   ],
   "source": [
    "soup.find_all('p')[0]"
   ]
  },
  {
   "cell_type": "code",
   "execution_count": 112,
   "id": "ddc1e225-a55c-4fd2-8f05-d97b43027a44",
   "metadata": {},
   "outputs": [
    {
     "data": {
      "text/plain": [
       "<p>\n",
       "      こちらのページは、<b>PythonによるWebスクレイピング〜Webアプリケーション編〜</b>で使用します。\n",
       "      </p>"
      ]
     },
     "execution_count": 112,
     "metadata": {},
     "output_type": "execute_result"
    }
   ],
   "source": [
    "soup.find('p')"
   ]
  },
  {
   "cell_type": "code",
   "execution_count": 113,
   "id": "35c50991-6a54-43ea-9b1a-de9e48c356fc",
   "metadata": {},
   "outputs": [
    {
     "data": {
      "text/plain": [
       "<p>\n",
       "      こちらのページは、<b>PythonによるWebスクレイピング〜Webアプリケーション編〜</b>で使用します。\n",
       "      </p>"
      ]
     },
     "execution_count": 113,
     "metadata": {},
     "output_type": "execute_result"
    }
   ],
   "source": [
    "soup.p"
   ]
  },
  {
   "cell_type": "code",
   "execution_count": 114,
   "id": "790253eb-77ab-4fb3-a422-7e9188070c3f",
   "metadata": {},
   "outputs": [
    {
     "data": {
      "text/plain": [
       "'\\n      こちらのページは、PythonによるWebスクレイピング〜Webアプリケーション編〜で使用します。\\n      '"
      ]
     },
     "execution_count": 114,
     "metadata": {},
     "output_type": "execute_result"
    }
   ],
   "source": [
    "soup.p.text"
   ]
  },
  {
   "cell_type": "code",
   "execution_count": null,
   "id": "141b8ea5-93b2-4ea3-92a4-154d87a3d6bb",
   "metadata": {},
   "outputs": [],
   "source": []
  },
  {
   "cell_type": "code",
   "execution_count": 116,
   "id": "95aeb76c-aabc-49ba-995a-0cde96befa73",
   "metadata": {},
   "outputs": [
    {
     "data": {
      "text/plain": [
       "<p class=\"subscribers\">受講生の数：14348</p>"
      ]
     },
     "execution_count": 116,
     "metadata": {},
     "output_type": "execute_result"
    }
   ],
   "source": [
    "# 要素名（p）に続いて、属性(attr)を引数(辞書型)で指定\n",
    "\n",
    "subscribers = soup.find_all('p', attrs={'class': 'subscribers'})[0]\n",
    "subscribers"
   ]
  },
  {
   "cell_type": "code",
   "execution_count": 117,
   "id": "e3348f8b-f5d1-46e6-a149-985116e8c73e",
   "metadata": {},
   "outputs": [
    {
     "data": {
      "text/plain": [
       "'受講生の数：14348'"
      ]
     },
     "execution_count": 117,
     "metadata": {},
     "output_type": "execute_result"
    }
   ],
   "source": [
    "subscribers.text"
   ]
  },
  {
   "cell_type": "code",
   "execution_count": 121,
   "id": "a9872b61-55e0-4574-b5e5-3db237bdc4d1",
   "metadata": {},
   "outputs": [
    {
     "data": {
      "text/plain": [
       "14348"
      ]
     },
     "execution_count": 121,
     "metadata": {},
     "output_type": "execute_result"
    }
   ],
   "source": [
    "n_subscribers = int(subscribers.text.split('：')[1])\n",
    "n_subscribers"
   ]
  },
  {
   "cell_type": "markdown",
   "id": "9bd6f66f-12ee-4ba4-b343-be4d9dd00330",
   "metadata": {},
   "source": [
    "レビューの数を取得"
   ]
  },
  {
   "cell_type": "code",
   "execution_count": 122,
   "id": "377e0268-6257-4704-8778-21ff59a67fb9",
   "metadata": {},
   "outputs": [
    {
     "data": {
      "text/plain": [
       "<p class=\"reviews\">レビューの数：2506</p>"
      ]
     },
     "execution_count": 122,
     "metadata": {},
     "output_type": "execute_result"
    }
   ],
   "source": [
    "reviews = soup.find_all('p', attrs={'class': 'reviews'})[0]\n",
    "reviews"
   ]
  },
  {
   "cell_type": "code",
   "execution_count": 123,
   "id": "5c7e4493-7795-4406-8c39-a91c1b96caaa",
   "metadata": {},
   "outputs": [
    {
     "data": {
      "text/plain": [
       "'レビューの数：2506'"
      ]
     },
     "execution_count": 123,
     "metadata": {},
     "output_type": "execute_result"
    }
   ],
   "source": [
    "reviews.text"
   ]
  },
  {
   "cell_type": "code",
   "execution_count": 124,
   "id": "4679f099-4dd8-4507-b5e2-0f14cb6cb957",
   "metadata": {},
   "outputs": [
    {
     "data": {
      "text/plain": [
       "2506"
      ]
     },
     "execution_count": 124,
     "metadata": {},
     "output_type": "execute_result"
    }
   ],
   "source": [
    "n_reviews = int(reviews.text.split('：')[1])\n",
    "n_reviews"
   ]
  },
  {
   "cell_type": "code",
   "execution_count": null,
   "id": "96994460-73e9-4124-8922-afd45b0d2824",
   "metadata": {},
   "outputs": [],
   "source": []
  },
  {
   "cell_type": "markdown",
   "id": "f5c5c05f-6df2-4fe8-a5b1-9a8ca78a27da",
   "metadata": {},
   "source": [
    "cssセレクターで指定すいる抽出"
   ]
  },
  {
   "cell_type": "code",
   "execution_count": 125,
   "id": "151f7f78-28ed-4a86-bbb3-6d42a30f93f4",
   "metadata": {},
   "outputs": [
    {
     "data": {
      "text/plain": [
       "[<p class=\"subscribers\">受講生の数：14348</p>]"
      ]
     },
     "execution_count": 125,
     "metadata": {},
     "output_type": "execute_result"
    }
   ],
   "source": [
    "soup.select('.subscribers')"
   ]
  },
  {
   "cell_type": "code",
   "execution_count": 127,
   "id": "cf951fef-bd01-4394-94b5-f12457e57e3c",
   "metadata": {},
   "outputs": [
    {
     "data": {
      "text/plain": [
       "<p class=\"subscribers\">受講生の数：14348</p>"
      ]
     },
     "execution_count": 127,
     "metadata": {},
     "output_type": "execute_result"
    }
   ],
   "source": [
    "soup.select_one('.subscribers')  # ひとつ目だけ"
   ]
  },
  {
   "cell_type": "code",
   "execution_count": 129,
   "id": "a04eb9a2-3f9a-4fc9-8a04-7b411a9df925",
   "metadata": {},
   "outputs": [
    {
     "data": {
      "text/plain": [
       "'レビューの数：2506'"
      ]
     },
     "execution_count": 129,
     "metadata": {},
     "output_type": "execute_result"
    }
   ],
   "source": [
    "soup.select_one('.reviews').text"
   ]
  },
  {
   "cell_type": "code",
   "execution_count": null,
   "id": "e623c48c-f282-4786-94e3-f977d9d80459",
   "metadata": {},
   "outputs": [],
   "source": []
  },
  {
   "cell_type": "markdown",
   "id": "b7a28e6a-b7ea-4bfb-9c99-7ebb0b144187",
   "metadata": {},
   "source": [
    "# ランキングサイトの取得"
   ]
  },
  {
   "cell_type": "code",
   "execution_count": null,
   "id": "e9cd2f77-7fa4-43a4-ba81-08cf45d229fd",
   "metadata": {},
   "outputs": [],
   "source": [
    "import requests\n",
    "from bs4 import BeautifulSoup"
   ]
  },
  {
   "cell_type": "code",
   "execution_count": 130,
   "id": "367e6d61-6c34-49c4-a709-1d497b9a7f5a",
   "metadata": {
    "tags": []
   },
   "outputs": [],
   "source": [
    "url = 'https://scraping-for-beginner.herokuapp.com/ranking/'\n",
    "res = requests.get(url)"
   ]
  },
  {
   "cell_type": "code",
   "execution_count": 131,
   "id": "30dd3663-903c-4abd-a093-6827b5f052bd",
   "metadata": {},
   "outputs": [
    {
     "data": {
      "text/plain": [
       "<Response [200]>"
      ]
     },
     "execution_count": 131,
     "metadata": {},
     "output_type": "execute_result"
    }
   ],
   "source": [
    "res"
   ]
  },
  {
   "cell_type": "code",
   "execution_count": 132,
   "id": "b1b26b1d-c719-4365-af7a-95a12586da7d",
   "metadata": {},
   "outputs": [],
   "source": [
    "soup = BeautifulSoup(res.text, 'html.parser')"
   ]
  },
  {
   "cell_type": "code",
   "execution_count": 133,
   "id": "42b2ac9f-0f39-48af-a394-7810682a6a4c",
   "metadata": {
    "scrolled": true,
    "tags": []
   },
   "outputs": [
    {
     "name": "stdout",
     "output_type": "stream",
     "text": [
      "<!DOCTYPE html>\n",
      "<html dir=\"ltr\" lang=\"en\">\n",
      " <head>\n",
      "  <meta charset=\"utf-8\"/>\n",
      "  <title>\n",
      "   Webスクレイピング入門者のためのサイト\n",
      "  </title>\n",
      "  <!-- Compiled and minified CSS -->\n",
      "  <link href=\"https://cdnjs.cloudflare.com/ajax/libs/materialize/1.0.0-rc.2/css/materialize.min.css\" rel=\"stylesheet\"/>\n",
      "  <link href=\"https://fonts.googleapis.com/icon?family=Material+Icons\" rel=\"stylesheet\"/>\n",
      " \n",
      "  <!-- <link rel=\"stylesheet\" href=\"static/assets/css/style.css\">\n",
      "  <link rel=\"stylesheet\" href=\"static/assets/css/image.css\">\n",
      "  <link rel=\"stylesheet\" href=\"static/assets/css/ranking.css\"> -->\n",
      "  <link href=\"/static/assets/css/style.css\" rel=\"stylesheet\"/>\n",
      "  <link href=\"/static/assets/css/image.css\" rel=\"stylesheet\"/>\n",
      "  <link href=\"/static/assets/css/ranking.css\" rel=\"stylesheet\"/>\n",
      " </head>\n",
      " <body>\n",
      "  <!-- Navbar -->\n",
      "  <div class=\"navbar-fixed\">\n",
      "   <!-- Dropdown Structure -->\n",
      "   <nav class=\"\">\n",
      "    <div class=\"nav-wrapper row\">\n",
      "     <div class=\"col s5 l4 offset-s1 offset-l1\">\n",
      "      <a class=\"brand-logo\" href=/\">\n",
      "       Webスクレイピング入門\n",
      "      </a>\n",
      "     </div>\n",
      "     <div class=\"col s5 l6\">\n",
      "      <ul class=\"right hide-on-med-and-down\" id=\"nav-mobile\">\n",
      "       <li>\n",
      "        <a class=\"\" href=/login_page\">\n",
      "         ログイン\n",
      "        </a>\n",
      "       </li>\n",
      "       <li>\n",
      "        <a class=\"\" href=\"/ranking/\">\n",
      "         ランキング\n",
      "        </a>\n",
      "       </li>\n",
      "       <li>\n",
      "        <a class=\"\" href=\"/image\">\n",
      "         画像\n",
      "        </a>\n",
      "       </li>\n",
      "       <li>\n",
      "        <a class=\"\" href=\"/udemy\">\n",
      "         Udemy\n",
      "        </a>\n",
      "       </li>\n",
      "       <li>\n",
      "        <a class=\"\" href=\"https://scraping-for-beginner.readthedocs.io/\" target=\"”_blank”\">\n",
      "         サンプルコード\n",
      "        </a>\n",
      "       </li>\n",
      "      </ul>\n",
      "     </div>\n",
      "    </div>\n",
      "   </nav>\n",
      "  </div>\n",
      "  <div class=\"row\">\n",
      "   <div class=\"col s6 offset-s3\">\n",
      "    <div class=\"overview\">\n",
      "     <p>\n",
      "      このサイトはランキング形式のデモサイトになります。 私自身が適当にランク付けしたものであるため、評価等は気にしないで下さい。 スクレイピングをするためだけに用意したサイトであるため、各項目などにも特に意味はございません。\n",
      "     </p>\n",
      "    </div>\n",
      "    <div>\n",
      "     <h3>\n",
      "      おすすめ観光地\n",
      "     </h3>\n",
      "    </div>\n",
      "    <div class=\"u_areaListRankingBox row\">\n",
      "     <div class=\"u_title col s12\">\n",
      "      <p>\n",
      "       <h2>\n",
      "        <span class=\"badge\">\n",
      "         1\n",
      "        </span>\n",
      "        観光地 1\n",
      "       </h2>\n",
      "      </p>\n",
      "     </div>\n",
      "     <!-- 観光地イメージ -->\n",
      "     <div class=\"place_img col s12\">\n",
      "      <img alt=\"\" src=\"/static/assets/img/img1.JPG\"/>\n",
      "     </div>\n",
      "     <!-- 総合評価 -->\n",
      "     <div class=\"u_rankBox col s12\">\n",
      "      <span style=\"--rate: 94.0%;\">\n",
      "      </span>\n",
      "      <span class=\"evaluateNumber\">\n",
      "       4.7\n",
      "      </span>\n",
      "      <br/>\n",
      "     </div>\n",
      "     <!-- 各カテゴリ評価 -->\n",
      "     <div class=\"u_categoryTipsItem col s12\">\n",
      "      <dl>\n",
      "       <dt>\n",
      "        楽しさ\n",
      "       </dt>\n",
      "       <dd class=\"is_rank\">\n",
      "        <span class=\"evaluateNumber\">\n",
      "         4.6\n",
      "        </span>\n",
      "       </dd>\n",
      "       <dd class=\"comment\">\n",
      "        とてもエンジョイした\n",
      "       </dd>\n",
      "      </dl>\n",
      "      <dl>\n",
      "       <dt>\n",
      "        人混みの多さ\n",
      "       </dt>\n",
      "       <dd class=\"is_rank\">\n",
      "        <span class=\"evaluateNumber\">\n",
      "         4.5\n",
      "        </span>\n",
      "       </dd>\n",
      "       <dd class=\"comment\">\n",
      "        まぁまぁ混んでいた\n",
      "       </dd>\n",
      "      </dl>\n",
      "      <dl>\n",
      "       <dt>\n",
      "        景色\n",
      "       </dt>\n",
      "       <dd class=\"is_rank\">\n",
      "        <span class=\"evaluateNumber\">\n",
      "         4.9\n",
      "        </span>\n",
      "       </dd>\n",
      "       <dd class=\"comment\">\n",
      "        信じられないような絶景であった\n",
      "       </dd>\n",
      "      </dl>\n",
      "      <dl>\n",
      "       <dt>\n",
      "        アクセス\n",
      "       </dt>\n",
      "       <dd class=\"is_rank\">\n",
      "        <span class=\"evaluateNumber\">\n",
      "         4.2\n",
      "        </span>\n",
      "       </dd>\n",
      "       <dd class=\"comment\">\n",
      "        アクセスはあまり良くなかった\n",
      "       </dd>\n",
      "      </dl>\n",
      "     </div>\n",
      "     <div class=\"divider\">\n",
      "     </div>\n",
      "    </div>\n",
      "    <div class=\"u_areaListRankingBox row\">\n",
      "     <div class=\"u_title col s12\">\n",
      "      <p>\n",
      "       <h2>\n",
      "        <span class=\"badge\">\n",
      "         2\n",
      "        </span>\n",
      "        観光地 2\n",
      "       </h2>\n",
      "      </p>\n",
      "     </div>\n",
      "     <!-- 観光地イメージ -->\n",
      "     <div class=\"place_img col s12\">\n",
      "      <img alt=\"\" src=\"/static/assets/img/img2.JPG\"/>\n",
      "     </div>\n",
      "     <!-- 総合評価 -->\n",
      "     <div class=\"u_rankBox col s12\">\n",
      "      <span style=\"--rate: 94.0%;\">\n",
      "      </span>\n",
      "      <span class=\"evaluateNumber\">\n",
      "       4.7\n",
      "      </span>\n",
      "      <br/>\n",
      "     </div>\n",
      "     <!-- 各カテゴリ評価 -->\n",
      "     <div class=\"u_categoryTipsItem col s12\">\n",
      "      <dl>\n",
      "       <dt>\n",
      "        楽しさ\n",
      "       </dt>\n",
      "       <dd class=\"is_rank\">\n",
      "        <span class=\"evaluateNumber\">\n",
      "         4.6\n",
      "        </span>\n",
      "       </dd>\n",
      "       <dd class=\"comment\">\n",
      "        THE非日常\n",
      "       </dd>\n",
      "      </dl>\n",
      "      <dl>\n",
      "       <dt>\n",
      "        人混みの多さ\n",
      "       </dt>\n",
      "       <dd class=\"is_rank\">\n",
      "        <span class=\"evaluateNumber\">\n",
      "         4.5\n",
      "        </span>\n",
      "       </dd>\n",
      "       <dd class=\"comment\">\n",
      "        非常に空いていた\n",
      "       </dd>\n",
      "      </dl>\n",
      "      <dl>\n",
      "       <dt>\n",
      "        景色\n",
      "       </dt>\n",
      "       <dd class=\"is_rank\">\n",
      "        <span class=\"evaluateNumber\">\n",
      "         4.9\n",
      "        </span>\n",
      "       </dd>\n",
      "       <dd class=\"comment\">\n",
      "        大自然を感じることができた\n",
      "       </dd>\n",
      "      </dl>\n",
      "      <dl>\n",
      "       <dt>\n",
      "        アクセス\n",
      "       </dt>\n",
      "       <dd class=\"is_rank\">\n",
      "        <span class=\"evaluateNumber\">\n",
      "         4.2\n",
      "        </span>\n",
      "       </dd>\n",
      "       <dd class=\"comment\">\n",
      "        船で1時間ほどであった\n",
      "       </dd>\n",
      "      </dl>\n",
      "     </div>\n",
      "     <div class=\"divider\">\n",
      "     </div>\n",
      "    </div>\n",
      "    <div class=\"u_areaListRankingBox row\">\n",
      "     <div class=\"u_title col s12\">\n",
      "      <p>\n",
      "       <h2>\n",
      "        <span class=\"badge\">\n",
      "         3\n",
      "        </span>\n",
      "        観光地 3\n",
      "       </h2>\n",
      "      </p>\n",
      "     </div>\n",
      "     <!-- 観光地イメージ -->\n",
      "     <div class=\"place_img col s12\">\n",
      "      <img alt=\"\" src=\"/static/assets/img/img3.JPG\"/>\n",
      "     </div>\n",
      "     <!-- 総合評価 -->\n",
      "     <div class=\"u_rankBox col s12\">\n",
      "      <span style=\"--rate: 91.99999999999999%;\">\n",
      "      </span>\n",
      "      <span class=\"evaluateNumber\">\n",
      "       4.6\n",
      "      </span>\n",
      "      <br/>\n",
      "     </div>\n",
      "     <!-- 各カテゴリ評価 -->\n",
      "     <div class=\"u_categoryTipsItem col s12\">\n",
      "      <dl>\n",
      "       <dt>\n",
      "        楽しさ\n",
      "       </dt>\n",
      "       <dd class=\"is_rank\">\n",
      "        <span class=\"evaluateNumber\">\n",
      "         4.5\n",
      "        </span>\n",
      "       </dd>\n",
      "       <dd class=\"comment\">\n",
      "        満喫できた\n",
      "       </dd>\n",
      "      </dl>\n",
      "      <dl>\n",
      "       <dt>\n",
      "        人混みの多さ\n",
      "       </dt>\n",
      "       <dd class=\"is_rank\">\n",
      "        <span class=\"evaluateNumber\">\n",
      "         4.4\n",
      "        </span>\n",
      "       </dd>\n",
      "       <dd class=\"comment\">\n",
      "        時間帯によって混雑具合は違った\n",
      "       </dd>\n",
      "      </dl>\n",
      "      <dl>\n",
      "       <dt>\n",
      "        景色\n",
      "       </dt>\n",
      "       <dd class=\"is_rank\">\n",
      "        <span class=\"evaluateNumber\">\n",
      "         4.8\n",
      "        </span>\n",
      "       </dd>\n",
      "       <dd class=\"comment\">\n",
      "        景色に魅了された\n",
      "       </dd>\n",
      "      </dl>\n",
      "      <dl>\n",
      "       <dt>\n",
      "        アクセス\n",
      "       </dt>\n",
      "       <dd class=\"is_rank\">\n",
      "        <span class=\"evaluateNumber\">\n",
      "         4.1\n",
      "        </span>\n",
      "       </dd>\n",
      "       <dd class=\"comment\">\n",
      "        アクセスはあまり良くなかった\n",
      "       </dd>\n",
      "      </dl>\n",
      "     </div>\n",
      "     <div class=\"divider\">\n",
      "     </div>\n",
      "    </div>\n",
      "    <div class=\"u_areaListRankingBox row\">\n",
      "     <div class=\"u_title col s12\">\n",
      "      <p>\n",
      "       <h2>\n",
      "        <span class=\"badge\">\n",
      "         4\n",
      "        </span>\n",
      "        観光地 4\n",
      "       </h2>\n",
      "      </p>\n",
      "     </div>\n",
      "     <!-- 観光地イメージ -->\n",
      "     <div class=\"place_img col s12\">\n",
      "      <img alt=\"\" src=\"/static/assets/img/img4.JPG\"/>\n",
      "     </div>\n",
      "     <!-- 総合評価 -->\n",
      "     <div class=\"u_rankBox col s12\">\n",
      "      <span style=\"--rate: 90.0%;\">\n",
      "      </span>\n",
      "      <span class=\"evaluateNumber\">\n",
      "       4.5\n",
      "      </span>\n",
      "      <br/>\n",
      "     </div>\n",
      "     <!-- 各カテゴリ評価 -->\n",
      "     <div class=\"u_categoryTipsItem col s12\">\n",
      "      <dl>\n",
      "       <dt>\n",
      "        楽しさ\n",
      "       </dt>\n",
      "       <dd class=\"is_rank\">\n",
      "        <span class=\"evaluateNumber\">\n",
      "         4.4\n",
      "        </span>\n",
      "       </dd>\n",
      "       <dd class=\"comment\">\n",
      "        非常に楽しい場所であった\n",
      "       </dd>\n",
      "      </dl>\n",
      "      <dl>\n",
      "       <dt>\n",
      "        人混みの多さ\n",
      "       </dt>\n",
      "       <dd class=\"is_rank\">\n",
      "        <span class=\"evaluateNumber\">\n",
      "         4.4\n",
      "        </span>\n",
      "       </dd>\n",
      "       <dd class=\"comment\">\n",
      "        時間帯によって混雑具合は違った\n",
      "       </dd>\n",
      "      </dl>\n",
      "      <dl>\n",
      "       <dt>\n",
      "        景色\n",
      "       </dt>\n",
      "       <dd class=\"is_rank\">\n",
      "        <span class=\"evaluateNumber\">\n",
      "         4.8\n",
      "        </span>\n",
      "       </dd>\n",
      "       <dd class=\"comment\">\n",
      "        海が非常に綺麗であった\n",
      "       </dd>\n",
      "      </dl>\n",
      "      <dl>\n",
      "       <dt>\n",
      "        アクセス\n",
      "       </dt>\n",
      "       <dd class=\"is_rank\">\n",
      "        <span class=\"evaluateNumber\">\n",
      "         4.0\n",
      "        </span>\n",
      "       </dd>\n",
      "       <dd class=\"comment\">\n",
      "        船で1時間ほどであった\n",
      "       </dd>\n",
      "      </dl>\n",
      "     </div>\n",
      "     <div class=\"divider\">\n",
      "     </div>\n",
      "    </div>\n",
      "    <div class=\"u_areaListRankingBox row\">\n",
      "     <div class=\"u_title col s12\">\n",
      "      <p>\n",
      "       <h2>\n",
      "        <span class=\"badge\">\n",
      "         5\n",
      "        </span>\n",
      "        観光地 5\n",
      "       </h2>\n",
      "      </p>\n",
      "     </div>\n",
      "     <!-- 観光地イメージ -->\n",
      "     <div class=\"place_img col s12\">\n",
      "      <img alt=\"\" src=\"/static/assets/img/img5.JPG\"/>\n",
      "     </div>\n",
      "     <!-- 総合評価 -->\n",
      "     <div class=\"u_rankBox col s12\">\n",
      "      <span style=\"--rate: 90.0%;\">\n",
      "      </span>\n",
      "      <span class=\"evaluateNumber\">\n",
      "       4.5\n",
      "      </span>\n",
      "      <br/>\n",
      "     </div>\n",
      "     <!-- 各カテゴリ評価 -->\n",
      "     <div class=\"u_categoryTipsItem col s12\">\n",
      "      <dl>\n",
      "       <dt>\n",
      "        楽しさ\n",
      "       </dt>\n",
      "       <dd class=\"is_rank\">\n",
      "        <span class=\"evaluateNumber\">\n",
      "         4.4\n",
      "        </span>\n",
      "       </dd>\n",
      "       <dd class=\"comment\">\n",
      "        また行きたいと思える場所でした！！\n",
      "       </dd>\n",
      "      </dl>\n",
      "      <dl>\n",
      "       <dt>\n",
      "        人混みの多さ\n",
      "       </dt>\n",
      "       <dd class=\"is_rank\">\n",
      "        <span class=\"evaluateNumber\">\n",
      "         4.3\n",
      "        </span>\n",
      "       </dd>\n",
      "       <dd class=\"comment\">\n",
      "        空いていた\n",
      "       </dd>\n",
      "      </dl>\n",
      "      <dl>\n",
      "       <dt>\n",
      "        景色\n",
      "       </dt>\n",
      "       <dd class=\"is_rank\">\n",
      "        <span class=\"evaluateNumber\">\n",
      "         4.7\n",
      "        </span>\n",
      "       </dd>\n",
      "       <dd class=\"comment\">\n",
      "        自然の素晴らしさを味わった\n",
      "       </dd>\n",
      "      </dl>\n",
      "      <dl>\n",
      "       <dt>\n",
      "        アクセス\n",
      "       </dt>\n",
      "       <dd class=\"is_rank\">\n",
      "        <span class=\"evaluateNumber\">\n",
      "         4.0\n",
      "        </span>\n",
      "       </dd>\n",
      "       <dd class=\"comment\">\n",
      "        渋滞に巻き込まれて3時間以上かかった\n",
      "       </dd>\n",
      "      </dl>\n",
      "     </div>\n",
      "     <div class=\"divider\">\n",
      "     </div>\n",
      "    </div>\n",
      "    <div class=\"u_areaListRankingBox row\">\n",
      "     <div class=\"u_title col s12\">\n",
      "      <p>\n",
      "       <h2>\n",
      "        <span class=\"badge\">\n",
      "         6\n",
      "        </span>\n",
      "        観光地 6\n",
      "       </h2>\n",
      "      </p>\n",
      "     </div>\n",
      "     <!-- 観光地イメージ -->\n",
      "     <div class=\"place_img col s12\">\n",
      "      <img alt=\"\" src=\"/static/assets/img/img6.JPG\"/>\n",
      "     </div>\n",
      "     <!-- 総合評価 -->\n",
      "     <div class=\"u_rankBox col s12\">\n",
      "      <span style=\"--rate: 88.00000000000001%;\">\n",
      "      </span>\n",
      "      <span class=\"evaluateNumber\">\n",
      "       4.4\n",
      "      </span>\n",
      "      <br/>\n",
      "     </div>\n",
      "     <!-- 各カテゴリ評価 -->\n",
      "     <div class=\"u_categoryTipsItem col s12\">\n",
      "      <dl>\n",
      "       <dt>\n",
      "        楽しさ\n",
      "       </dt>\n",
      "       <dd class=\"is_rank\">\n",
      "        <span class=\"evaluateNumber\">\n",
      "         4.3\n",
      "        </span>\n",
      "       </dd>\n",
      "       <dd class=\"comment\">\n",
      "        非常に楽しい場所であった\n",
      "       </dd>\n",
      "      </dl>\n",
      "      <dl>\n",
      "       <dt>\n",
      "        人混みの多さ\n",
      "       </dt>\n",
      "       <dd class=\"is_rank\">\n",
      "        <span class=\"evaluateNumber\">\n",
      "         4.3\n",
      "        </span>\n",
      "       </dd>\n",
      "       <dd class=\"comment\">\n",
      "        まぁまぁ混んでいた\n",
      "       </dd>\n",
      "      </dl>\n",
      "      <dl>\n",
      "       <dt>\n",
      "        景色\n",
      "       </dt>\n",
      "       <dd class=\"is_rank\">\n",
      "        <span class=\"evaluateNumber\">\n",
      "         4.7\n",
      "        </span>\n",
      "       </dd>\n",
      "       <dd class=\"comment\">\n",
      "        海が非常に綺麗であった\n",
      "       </dd>\n",
      "      </dl>\n",
      "      <dl>\n",
      "       <dt>\n",
      "        アクセス\n",
      "       </dt>\n",
      "       <dd class=\"is_rank\">\n",
      "        <span class=\"evaluateNumber\">\n",
      "         3.9\n",
      "        </span>\n",
      "       </dd>\n",
      "       <dd class=\"comment\">\n",
      "        交通の便が悪かった\n",
      "       </dd>\n",
      "      </dl>\n",
      "     </div>\n",
      "     <div class=\"divider\">\n",
      "     </div>\n",
      "    </div>\n",
      "    <div class=\"u_areaListRankingBox row\">\n",
      "     <div class=\"u_title col s12\">\n",
      "      <p>\n",
      "       <h2>\n",
      "        <span class=\"badge\">\n",
      "         7\n",
      "        </span>\n",
      "        観光地 7\n",
      "       </h2>\n",
      "      </p>\n",
      "     </div>\n",
      "     <!-- 観光地イメージ -->\n",
      "     <div class=\"place_img col s12\">\n",
      "      <img alt=\"\" src=\"/static/assets/img/img7.JPG\"/>\n",
      "     </div>\n",
      "     <!-- 総合評価 -->\n",
      "     <div class=\"u_rankBox col s12\">\n",
      "      <span style=\"--rate: 86.0%;\">\n",
      "      </span>\n",
      "      <span class=\"evaluateNumber\">\n",
      "       4.3\n",
      "      </span>\n",
      "      <br/>\n",
      "     </div>\n",
      "     <!-- 各カテゴリ評価 -->\n",
      "     <div class=\"u_categoryTipsItem col s12\">\n",
      "      <dl>\n",
      "       <dt>\n",
      "        楽しさ\n",
      "       </dt>\n",
      "       <dd class=\"is_rank\">\n",
      "        <span class=\"evaluateNumber\">\n",
      "         4.2\n",
      "        </span>\n",
      "       </dd>\n",
      "       <dd class=\"comment\">\n",
      "        満喫できた\n",
      "       </dd>\n",
      "      </dl>\n",
      "      <dl>\n",
      "       <dt>\n",
      "        人混みの多さ\n",
      "       </dt>\n",
      "       <dd class=\"is_rank\">\n",
      "        <span class=\"evaluateNumber\">\n",
      "         4.2\n",
      "        </span>\n",
      "       </dd>\n",
      "       <dd class=\"comment\">\n",
      "        空いていた\n",
      "       </dd>\n",
      "      </dl>\n",
      "      <dl>\n",
      "       <dt>\n",
      "        景色\n",
      "       </dt>\n",
      "       <dd class=\"is_rank\">\n",
      "        <span class=\"evaluateNumber\">\n",
      "         4.6\n",
      "        </span>\n",
      "       </dd>\n",
      "       <dd class=\"comment\">\n",
      "        自然の素晴らしさを味わった\n",
      "       </dd>\n",
      "      </dl>\n",
      "      <dl>\n",
      "       <dt>\n",
      "        アクセス\n",
      "       </dt>\n",
      "       <dd class=\"is_rank\">\n",
      "        <span class=\"evaluateNumber\">\n",
      "         3.8\n",
      "        </span>\n",
      "       </dd>\n",
      "       <dd class=\"comment\">\n",
      "        飛行機で1時間ほどで着きました\n",
      "       </dd>\n",
      "      </dl>\n",
      "     </div>\n",
      "     <div class=\"divider\">\n",
      "     </div>\n",
      "    </div>\n",
      "    <div class=\"u_areaListRankingBox row\">\n",
      "     <div class=\"u_title col s12\">\n",
      "      <p>\n",
      "       <h2>\n",
      "        <span class=\"badge\">\n",
      "         8\n",
      "        </span>\n",
      "        観光地 8\n",
      "       </h2>\n",
      "      </p>\n",
      "     </div>\n",
      "     <!-- 観光地イメージ -->\n",
      "     <div class=\"place_img col s12\">\n",
      "      <img alt=\"\" src=\"/static/assets/img/img8.JPG\"/>\n",
      "     </div>\n",
      "     <!-- 総合評価 -->\n",
      "     <div class=\"u_rankBox col s12\">\n",
      "      <span style=\"--rate: 86.0%;\">\n",
      "      </span>\n",
      "      <span class=\"evaluateNumber\">\n",
      "       4.3\n",
      "      </span>\n",
      "      <br/>\n",
      "     </div>\n",
      "     <!-- 各カテゴリ評価 -->\n",
      "     <div class=\"u_categoryTipsItem col s12\">\n",
      "      <dl>\n",
      "       <dt>\n",
      "        楽しさ\n",
      "       </dt>\n",
      "       <dd class=\"is_rank\">\n",
      "        <span class=\"evaluateNumber\">\n",
      "         4.2\n",
      "        </span>\n",
      "       </dd>\n",
      "       <dd class=\"comment\">\n",
      "        楽しくて帰りたくなかった\n",
      "       </dd>\n",
      "      </dl>\n",
      "      <dl>\n",
      "       <dt>\n",
      "        人混みの多さ\n",
      "       </dt>\n",
      "       <dd class=\"is_rank\">\n",
      "        <span class=\"evaluateNumber\">\n",
      "         4.2\n",
      "        </span>\n",
      "       </dd>\n",
      "       <dd class=\"comment\">\n",
      "        非常に混んでいた\n",
      "       </dd>\n",
      "      </dl>\n",
      "      <dl>\n",
      "       <dt>\n",
      "        景色\n",
      "       </dt>\n",
      "       <dd class=\"is_rank\">\n",
      "        <span class=\"evaluateNumber\">\n",
      "         4.6\n",
      "        </span>\n",
      "       </dd>\n",
      "       <dd class=\"comment\">\n",
      "        景色に魅了された\n",
      "       </dd>\n",
      "      </dl>\n",
      "      <dl>\n",
      "       <dt>\n",
      "        アクセス\n",
      "       </dt>\n",
      "       <dd class=\"is_rank\">\n",
      "        <span class=\"evaluateNumber\">\n",
      "         3.8\n",
      "        </span>\n",
      "       </dd>\n",
      "       <dd class=\"comment\">\n",
      "        渋滞に巻き込まれて3時間以上かかった\n",
      "       </dd>\n",
      "      </dl>\n",
      "     </div>\n",
      "     <div class=\"divider\">\n",
      "     </div>\n",
      "    </div>\n",
      "    <div class=\"u_areaListRankingBox row\">\n",
      "     <div class=\"u_title col s12\">\n",
      "      <p>\n",
      "       <h2>\n",
      "        <span class=\"badge\">\n",
      "         9\n",
      "        </span>\n",
      "        観光地 9\n",
      "       </h2>\n",
      "      </p>\n",
      "     </div>\n",
      "     <!-- 観光地イメージ -->\n",
      "     <div class=\"place_img col s12\">\n",
      "      <img alt=\"\" src=\"/static/assets/img/img9.JPG\"/>\n",
      "     </div>\n",
      "     <!-- 総合評価 -->\n",
      "     <div class=\"u_rankBox col s12\">\n",
      "      <span style=\"--rate: 84.0%;\">\n",
      "      </span>\n",
      "      <span class=\"evaluateNumber\">\n",
      "       4.2\n",
      "      </span>\n",
      "      <br/>\n",
      "     </div>\n",
      "     <!-- 各カテゴリ評価 -->\n",
      "     <div class=\"u_categoryTipsItem col s12\">\n",
      "      <dl>\n",
      "       <dt>\n",
      "        楽しさ\n",
      "       </dt>\n",
      "       <dd class=\"is_rank\">\n",
      "        <span class=\"evaluateNumber\">\n",
      "         4.1\n",
      "        </span>\n",
      "       </dd>\n",
      "       <dd class=\"comment\">\n",
      "        １日中飽きることなく遊び続けられた\n",
      "       </dd>\n",
      "      </dl>\n",
      "      <dl>\n",
      "       <dt>\n",
      "        人混みの多さ\n",
      "       </dt>\n",
      "       <dd class=\"is_rank\">\n",
      "        <span class=\"evaluateNumber\">\n",
      "         4.1\n",
      "        </span>\n",
      "       </dd>\n",
      "       <dd class=\"comment\">\n",
      "        非常に空いていた\n",
      "       </dd>\n",
      "      </dl>\n",
      "      <dl>\n",
      "       <dt>\n",
      "        景色\n",
      "       </dt>\n",
      "       <dd class=\"is_rank\">\n",
      "        <span class=\"evaluateNumber\">\n",
      "         4.5\n",
      "        </span>\n",
      "       </dd>\n",
      "       <dd class=\"comment\">\n",
      "        大自然を感じることができた\n",
      "       </dd>\n",
      "      </dl>\n",
      "      <dl>\n",
      "       <dt>\n",
      "        アクセス\n",
      "       </dt>\n",
      "       <dd class=\"is_rank\">\n",
      "        <span class=\"evaluateNumber\">\n",
      "         3.7\n",
      "        </span>\n",
      "       </dd>\n",
      "       <dd class=\"comment\">\n",
      "        船で2時間ほどであった\n",
      "       </dd>\n",
      "      </dl>\n",
      "     </div>\n",
      "     <div class=\"divider\">\n",
      "     </div>\n",
      "    </div>\n",
      "    <div class=\"u_areaListRankingBox row\">\n",
      "     <div class=\"u_title col s12\">\n",
      "      <p>\n",
      "       <h2>\n",
      "        <span class=\"badge\">\n",
      "         10\n",
      "        </span>\n",
      "        観光地 10\n",
      "       </h2>\n",
      "      </p>\n",
      "     </div>\n",
      "     <!-- 観光地イメージ -->\n",
      "     <div class=\"place_img col s12\">\n",
      "      <img alt=\"\" src=\"/static/assets/img/img10.JPG\"/>\n",
      "     </div>\n",
      "     <!-- 総合評価 -->\n",
      "     <div class=\"u_rankBox col s12\">\n",
      "      <span style=\"--rate: 81.99999999999999%;\">\n",
      "      </span>\n",
      "      <span class=\"evaluateNumber\">\n",
      "       4.1\n",
      "      </span>\n",
      "      <br/>\n",
      "     </div>\n",
      "     <!-- 各カテゴリ評価 -->\n",
      "     <div class=\"u_categoryTipsItem col s12\">\n",
      "      <dl>\n",
      "       <dt>\n",
      "        楽しさ\n",
      "       </dt>\n",
      "       <dd class=\"is_rank\">\n",
      "        <span class=\"evaluateNumber\">\n",
      "         4.0\n",
      "        </span>\n",
      "       </dd>\n",
      "       <dd class=\"comment\">\n",
      "        楽しくて帰りたくなかった\n",
      "       </dd>\n",
      "      </dl>\n",
      "      <dl>\n",
      "       <dt>\n",
      "        人混みの多さ\n",
      "       </dt>\n",
      "       <dd class=\"is_rank\">\n",
      "        <span class=\"evaluateNumber\">\n",
      "         4.1\n",
      "        </span>\n",
      "       </dd>\n",
      "       <dd class=\"comment\">\n",
      "        非常に混んでいた\n",
      "       </dd>\n",
      "      </dl>\n",
      "      <dl>\n",
      "       <dt>\n",
      "        景色\n",
      "       </dt>\n",
      "       <dd class=\"is_rank\">\n",
      "        <span class=\"evaluateNumber\">\n",
      "         4.4\n",
      "        </span>\n",
      "       </dd>\n",
      "       <dd class=\"comment\">\n",
      "        信じられないような絶景であった\n",
      "       </dd>\n",
      "      </dl>\n",
      "      <dl>\n",
      "       <dt>\n",
      "        アクセス\n",
      "       </dt>\n",
      "       <dd class=\"is_rank\">\n",
      "        <span class=\"evaluateNumber\">\n",
      "         3.6\n",
      "        </span>\n",
      "       </dd>\n",
      "       <dd class=\"comment\">\n",
      "        船で2時間ほどであった\n",
      "       </dd>\n",
      "      </dl>\n",
      "     </div>\n",
      "     <div class=\"divider\">\n",
      "     </div>\n",
      "    </div>\n",
      "    <div class=\"divider white\">\n",
      "    </div>\n",
      "    <div class=\"center-align\" id=\"pagination\">\n",
      "     <ul class=\"pagination\">\n",
      "      <li class=\"disabled\">\n",
      "       <a href=\"/ranking/?page=prev\">\n",
      "        <i class=\"material-icons\">\n",
      "         chevron_left\n",
      "        </i>\n",
      "       </a>\n",
      "      </li>\n",
      "      <li class=\"active\">\n",
      "       <a href=\"/ranking/?page=1\">\n",
      "        1\n",
      "       </a>\n",
      "      </li>\n",
      "      <li class=\"waves-effect\">\n",
      "       <a href=\"/ranking/?page=2\">\n",
      "        2\n",
      "       </a>\n",
      "      </li>\n",
      "      <li class=\"waves-effect\">\n",
      "       <a href=\"/ranking/?page=3\">\n",
      "        3\n",
      "       </a>\n",
      "      </li>\n",
      "      <li class=\"waves-effect\">\n",
      "       <a href=\"/ranking/?page=next\">\n",
      "        <i class=\"material-icons\">\n",
      "         chevron_right\n",
      "        </i>\n",
      "       </a>\n",
      "      </li>\n",
      "     </ul>\n",
      "    </div>\n",
      "   </div>\n",
      "  </div>\n",
      " </body>\n",
      "</html>\n"
     ]
    }
   ],
   "source": [
    "print(soup.prettify())"
   ]
  },
  {
   "cell_type": "markdown",
   "id": "419493cf-7f03-47b6-9b22-d0c5af78e78f",
   "metadata": {},
   "source": [
    "## 一つの観光地情報を取得"
   ]
  },
  {
   "cell_type": "code",
   "execution_count": 136,
   "id": "252824c5-3a84-47dd-bc5a-5519010cbb10",
   "metadata": {
    "scrolled": true,
    "tags": []
   },
   "outputs": [
    {
     "data": {
      "text/plain": [
       "<div class=\"u_areaListRankingBox row\">\n",
       "<div class=\"u_title col s12\">\n",
       "<p><h2><span class=\"badge\">1</span>観光地 1</h2></p>\n",
       "</div>\n",
       "<!-- 観光地イメージ -->\n",
       "<div class=\"place_img col s12\">\n",
       "<img alt=\"\" src=\"/static/assets/img/img1.JPG\"/>\n",
       "</div>\n",
       "<!-- 総合評価 -->\n",
       "<div class=\"u_rankBox col s12\">\n",
       "<span style=\"--rate: 94.0%;\"></span><span class=\"evaluateNumber\">4.7</span><br/>\n",
       "</div>\n",
       "<!-- 各カテゴリ評価 -->\n",
       "<div class=\"u_categoryTipsItem col s12\">\n",
       "<dl>\n",
       "<dt>楽しさ</dt>\n",
       "<dd class=\"is_rank\"><span class=\"evaluateNumber\">4.6</span></dd>\n",
       "<dd class=\"comment\">とてもエンジョイした</dd>\n",
       "</dl>\n",
       "<dl>\n",
       "<dt>人混みの多さ</dt>\n",
       "<dd class=\"is_rank\"><span class=\"evaluateNumber\">4.5</span></dd>\n",
       "<dd class=\"comment\">まぁまぁ混んでいた</dd>\n",
       "</dl>\n",
       "<dl>\n",
       "<dt>景色</dt>\n",
       "<dd class=\"is_rank\"><span class=\"evaluateNumber\">4.9</span></dd>\n",
       "<dd class=\"comment\">信じられないような絶景であった</dd>\n",
       "</dl>\n",
       "<dl>\n",
       "<dt>アクセス</dt>\n",
       "<dd class=\"is_rank\"><span class=\"evaluateNumber\">4.2</span></dd>\n",
       "<dd class=\"comment\">アクセスはあまり良くなかった</dd>\n",
       "</dl>\n",
       "</div>\n",
       "<div class=\"divider\">\n",
       "</div>\n",
       "</div>"
      ]
     },
     "execution_count": 136,
     "metadata": {},
     "output_type": "execute_result"
    }
   ],
   "source": [
    "# 観光地名\n",
    "spots = soup.find_all('div', attrs={'class': 'u_areaListRankingBox'})\n",
    "spot = spots[0]\n",
    "spot"
   ]
  },
  {
   "cell_type": "code",
   "execution_count": 139,
   "id": "020f0617-e835-40ab-b4fe-acb5c5adbe4f",
   "metadata": {},
   "outputs": [
    {
     "data": {
      "text/plain": [
       "<div class=\"u_title col s12\">\n",
       "<p><h2><span class=\"badge\">1</span>観光地 1</h2></p>\n",
       "</div>"
      ]
     },
     "execution_count": 139,
     "metadata": {},
     "output_type": "execute_result"
    }
   ],
   "source": [
    "spot_name = spot.find('div', attrs={'class': 'u_title'})\n",
    "spot_name"
   ]
  },
  {
   "cell_type": "code",
   "execution_count": 140,
   "id": "b54a5c9b-ded0-4708-8a39-84e1f05aac72",
   "metadata": {},
   "outputs": [
    {
     "data": {
      "text/plain": [
       "'\\n1観光地 1\\n'"
      ]
     },
     "execution_count": 140,
     "metadata": {},
     "output_type": "execute_result"
    }
   ],
   "source": [
    "spot_name.text"
   ]
  },
  {
   "cell_type": "code",
   "execution_count": 141,
   "id": "551779fc-6dbf-4a9b-b669-59addd4e4956",
   "metadata": {},
   "outputs": [
    {
     "data": {
      "text/plain": [
       "<span class=\"badge\">1</span>"
      ]
     },
     "execution_count": 141,
     "metadata": {},
     "output_type": "execute_result"
    }
   ],
   "source": [
    "spot_name.find('span', attrs={'class': 'badge'})"
   ]
  },
  {
   "cell_type": "code",
   "execution_count": 142,
   "id": "df7f5cab-2b33-48d9-ac63-c77393a19895",
   "metadata": {},
   "outputs": [
    {
     "data": {
      "text/plain": [
       "<div class=\"u_title col s12\">\n",
       "<p><h2>観光地 1</h2></p>\n",
       "</div>"
      ]
     },
     "execution_count": 142,
     "metadata": {},
     "output_type": "execute_result"
    }
   ],
   "source": [
    "spot_name.find('span', attrs={'class': 'badge'}).extract()  # 特定したものを取り除く\n",
    "spot_name"
   ]
  },
  {
   "cell_type": "code",
   "execution_count": 145,
   "id": "b38b4c89-e970-4fde-b732-b96c7443bba6",
   "metadata": {},
   "outputs": [
    {
     "data": {
      "text/plain": [
       "'観光地 1'"
      ]
     },
     "execution_count": 145,
     "metadata": {},
     "output_type": "execute_result"
    }
   ],
   "source": [
    "spot_name = spot_name.text.replace('\\n', '')\n",
    "spot_name"
   ]
  },
  {
   "cell_type": "code",
   "execution_count": 155,
   "id": "7b042049-277a-4fbc-8ae9-542b9f915ead",
   "metadata": {},
   "outputs": [],
   "source": [
    "# 評価点\n",
    "eval_num = spot.find('div', attrs={'class', 'u_rankBox'}).text\n",
    "eval_num = float(eval_num.replace('\\n', ''))"
   ]
  },
  {
   "cell_type": "code",
   "execution_count": 156,
   "id": "0c5119e8-9a36-479a-a527-78ba089bde83",
   "metadata": {},
   "outputs": [
    {
     "data": {
      "text/plain": [
       "4.7"
      ]
     },
     "execution_count": 156,
     "metadata": {},
     "output_type": "execute_result"
    }
   ],
   "source": [
    "eval_num"
   ]
  },
  {
   "cell_type": "code",
   "execution_count": 161,
   "id": "d316ef2a-a8f1-4815-ae4a-4dd2cfbcb169",
   "metadata": {},
   "outputs": [
    {
     "data": {
      "text/plain": [
       "<div class=\"u_categoryTipsItem col s12\">\n",
       "<dl>\n",
       "<dt>楽しさ</dt>\n",
       "<dd class=\"is_rank\"><span class=\"evaluateNumber\">4.6</span></dd>\n",
       "<dd class=\"comment\">とてもエンジョイした</dd>\n",
       "</dl>\n",
       "<dl>\n",
       "<dt>人混みの多さ</dt>\n",
       "<dd class=\"is_rank\"><span class=\"evaluateNumber\">4.5</span></dd>\n",
       "<dd class=\"comment\">まぁまぁ混んでいた</dd>\n",
       "</dl>\n",
       "<dl>\n",
       "<dt>景色</dt>\n",
       "<dd class=\"is_rank\"><span class=\"evaluateNumber\">4.9</span></dd>\n",
       "<dd class=\"comment\">信じられないような絶景であった</dd>\n",
       "</dl>\n",
       "<dl>\n",
       "<dt>アクセス</dt>\n",
       "<dd class=\"is_rank\"><span class=\"evaluateNumber\">4.2</span></dd>\n",
       "<dd class=\"comment\">アクセスはあまり良くなかった</dd>\n",
       "</dl>\n",
       "</div>"
      ]
     },
     "execution_count": 161,
     "metadata": {},
     "output_type": "execute_result"
    }
   ],
   "source": [
    "categoryItems = spot.find('div', attrs={'class','u_categoryTipsItem'})\n",
    "categoryItems"
   ]
  },
  {
   "cell_type": "code",
   "execution_count": null,
   "id": "b44a6a1a-b65a-421c-85ee-f0cf12b20733",
   "metadata": {},
   "outputs": [],
   "source": [
    "categoryItems = categoryItems.find_all('dl')\n",
    "categoryItems"
   ]
  },
  {
   "cell_type": "code",
   "execution_count": 166,
   "id": "ef7bc7aa-b9aa-40ad-a3ca-3a19794360e9",
   "metadata": {},
   "outputs": [],
   "source": [
    "# 楽しさのみ\n",
    "categoryItem = categoryItems[0]"
   ]
  },
  {
   "cell_type": "code",
   "execution_count": 168,
   "id": "27460192-8261-42fa-9aca-1cefa1df5d53",
   "metadata": {},
   "outputs": [
    {
     "data": {
      "text/plain": [
       "'楽しさ'"
      ]
     },
     "execution_count": 168,
     "metadata": {},
     "output_type": "execute_result"
    }
   ],
   "source": [
    "category = categoryItem.dt.text\n",
    "category"
   ]
  },
  {
   "cell_type": "code",
   "execution_count": 171,
   "id": "729f1dd7-9fa1-47d8-9529-d95f79f4da4d",
   "metadata": {},
   "outputs": [
    {
     "data": {
      "text/plain": [
       "4.6"
      ]
     },
     "execution_count": 171,
     "metadata": {},
     "output_type": "execute_result"
    }
   ],
   "source": [
    "rank = float(categoryItem.span.text)\n",
    "rank"
   ]
  },
  {
   "cell_type": "markdown",
   "id": "b09d9e90-c95a-4fbc-b623-5fc269383a81",
   "metadata": {},
   "source": [
    "全カテゴリーを処理"
   ]
  },
  {
   "cell_type": "code",
   "execution_count": 172,
   "id": "d2729b5f-8c98-44e5-8a2d-03cac1b98a08",
   "metadata": {},
   "outputs": [],
   "source": [
    "details = {}\n",
    "\n",
    "for categoryItem in categoryItems:\n",
    "    category = categoryItem.dt.text\n",
    "    rank = float(categoryItem.span.text)\n",
    "\n",
    "    details[category] = rank\n"
   ]
  },
  {
   "cell_type": "code",
   "execution_count": 173,
   "id": "4615da89-e2c7-4b92-8b0a-ae5b252ad6f0",
   "metadata": {},
   "outputs": [
    {
     "data": {
      "text/plain": [
       "{'楽しさ': 4.6, '人混みの多さ': 4.5, '景色': 4.9, 'アクセス': 4.2}"
      ]
     },
     "execution_count": 173,
     "metadata": {},
     "output_type": "execute_result"
    }
   ],
   "source": [
    "details"
   ]
  },
  {
   "cell_type": "code",
   "execution_count": 175,
   "id": "d399ffee-84d7-4af3-9737-3410e2a4f24d",
   "metadata": {},
   "outputs": [],
   "source": [
    "dataum = details\n",
    "dataum['観光地'] = spot_name\n",
    "dataum['評価点'] = eval_num"
   ]
  },
  {
   "cell_type": "code",
   "execution_count": 176,
   "id": "72f78db1-3c47-42ac-a432-9db8f58cdd22",
   "metadata": {},
   "outputs": [
    {
     "data": {
      "text/plain": [
       "{'楽しさ': 4.6, '人混みの多さ': 4.5, '景色': 4.9, 'アクセス': 4.2, '観光地': '観光地 1', '評価点': 4.7}"
      ]
     },
     "execution_count": 176,
     "metadata": {},
     "output_type": "execute_result"
    }
   ],
   "source": [
    "dataum"
   ]
  },
  {
   "cell_type": "code",
   "execution_count": null,
   "id": "0e13a88a-3c78-4ce9-93e1-0ff8871a9ddc",
   "metadata": {},
   "outputs": [],
   "source": []
  },
  {
   "cell_type": "markdown",
   "id": "9bfe57ea-d999-49af-b3f8-0ce40290cc9d",
   "metadata": {},
   "source": [
    "## 全ての観光地情報を取得"
   ]
  },
  {
   "cell_type": "code",
   "execution_count": 179,
   "id": "7b98191b-c86f-41d0-8249-60450c1c7b5a",
   "metadata": {},
   "outputs": [],
   "source": [
    "soup = BeautifulSoup(res.text, 'html.parser')\n",
    "\n",
    "data = []  # 全データの格納先\n",
    "\n",
    "spots = soup.find_all('div', attrs={'class': 'u_areaListRankingBox'})\n",
    "for spot in spots:\n",
    "    \n",
    "    details = {}\n",
    "    \n",
    "    # 観光地名\n",
    "    spot_name = spot.find('div', attrs={'class': 'u_title'})\n",
    "    spot_name.find('span', attrs={'class': 'badge'}).extract()  # 特定したものを取り除く\n",
    "    spot_name = spot_name.text.replace('\\n', '')\n",
    "    \n",
    "    details['観光地'] = spot_name\n",
    "\n",
    "    # 評価点\n",
    "    eval_num = spot.find('div', attrs={'class', 'u_rankBox'}).text\n",
    "    eval_num = float(eval_num.replace('\\n', ''))\n",
    "\n",
    "    details['評価点'] = eval_num\n",
    "    \n",
    "    # カテゴリ別の評価\n",
    "    categoryItems = spot.find('div', attrs={'class','u_categoryTipsItem'})\n",
    "    categoryItems = categoryItems.find_all('dl')\n",
    "\n",
    "    for categoryItem in categoryItems:\n",
    "        category = categoryItem.dt.text\n",
    "        rank = float(categoryItem.span.text)\n",
    "\n",
    "        details[category] = rank\n",
    "\n",
    "\n",
    "    data.append(details)\n"
   ]
  },
  {
   "cell_type": "code",
   "execution_count": 180,
   "id": "b8537edf-1339-43a6-aa78-2cd6eca34df1",
   "metadata": {
    "scrolled": true,
    "tags": []
   },
   "outputs": [
    {
     "data": {
      "text/plain": [
       "[{'観光地': '観光地 1',\n",
       "  '評価点': 4.7,\n",
       "  '楽しさ': 4.6,\n",
       "  '人混みの多さ': 4.5,\n",
       "  '景色': 4.9,\n",
       "  'アクセス': 4.2},\n",
       " {'観光地': '観光地 2',\n",
       "  '評価点': 4.7,\n",
       "  '楽しさ': 4.6,\n",
       "  '人混みの多さ': 4.5,\n",
       "  '景色': 4.9,\n",
       "  'アクセス': 4.2},\n",
       " {'観光地': '観光地 3',\n",
       "  '評価点': 4.6,\n",
       "  '楽しさ': 4.5,\n",
       "  '人混みの多さ': 4.4,\n",
       "  '景色': 4.8,\n",
       "  'アクセス': 4.1},\n",
       " {'観光地': '観光地 4',\n",
       "  '評価点': 4.5,\n",
       "  '楽しさ': 4.4,\n",
       "  '人混みの多さ': 4.4,\n",
       "  '景色': 4.8,\n",
       "  'アクセス': 4.0},\n",
       " {'観光地': '観光地 5',\n",
       "  '評価点': 4.5,\n",
       "  '楽しさ': 4.4,\n",
       "  '人混みの多さ': 4.3,\n",
       "  '景色': 4.7,\n",
       "  'アクセス': 4.0},\n",
       " {'観光地': '観光地 6',\n",
       "  '評価点': 4.4,\n",
       "  '楽しさ': 4.3,\n",
       "  '人混みの多さ': 4.3,\n",
       "  '景色': 4.7,\n",
       "  'アクセス': 3.9},\n",
       " {'観光地': '観光地 7',\n",
       "  '評価点': 4.3,\n",
       "  '楽しさ': 4.2,\n",
       "  '人混みの多さ': 4.2,\n",
       "  '景色': 4.6,\n",
       "  'アクセス': 3.8},\n",
       " {'観光地': '観光地 8',\n",
       "  '評価点': 4.3,\n",
       "  '楽しさ': 4.2,\n",
       "  '人混みの多さ': 4.2,\n",
       "  '景色': 4.6,\n",
       "  'アクセス': 3.8},\n",
       " {'観光地': '観光地 9',\n",
       "  '評価点': 4.2,\n",
       "  '楽しさ': 4.1,\n",
       "  '人混みの多さ': 4.1,\n",
       "  '景色': 4.5,\n",
       "  'アクセス': 3.7},\n",
       " {'観光地': '観光地 10',\n",
       "  '評価点': 4.1,\n",
       "  '楽しさ': 4.0,\n",
       "  '人混みの多さ': 4.1,\n",
       "  '景色': 4.4,\n",
       "  'アクセス': 3.6}]"
      ]
     },
     "execution_count": 180,
     "metadata": {},
     "output_type": "execute_result"
    }
   ],
   "source": [
    "data"
   ]
  },
  {
   "cell_type": "code",
   "execution_count": null,
   "id": "287d4491-2c1f-4451-b11e-daedfe7c9f04",
   "metadata": {},
   "outputs": [],
   "source": []
  },
  {
   "cell_type": "code",
   "execution_count": 181,
   "id": "b6d32efd-dc05-4e60-ab0f-242abf554f67",
   "metadata": {},
   "outputs": [],
   "source": [
    "df = pd.DataFrame(data)"
   ]
  },
  {
   "cell_type": "code",
   "execution_count": 182,
   "id": "fb8015f0-f168-483c-bd49-f15a5d00a616",
   "metadata": {},
   "outputs": [
    {
     "data": {
      "text/html": [
       "<div>\n",
       "<style scoped>\n",
       "    .dataframe tbody tr th:only-of-type {\n",
       "        vertical-align: middle;\n",
       "    }\n",
       "\n",
       "    .dataframe tbody tr th {\n",
       "        vertical-align: top;\n",
       "    }\n",
       "\n",
       "    .dataframe thead th {\n",
       "        text-align: right;\n",
       "    }\n",
       "</style>\n",
       "<table border=\"1\" class=\"dataframe\">\n",
       "  <thead>\n",
       "    <tr style=\"text-align: right;\">\n",
       "      <th></th>\n",
       "      <th>観光地</th>\n",
       "      <th>評価点</th>\n",
       "      <th>楽しさ</th>\n",
       "      <th>人混みの多さ</th>\n",
       "      <th>景色</th>\n",
       "      <th>アクセス</th>\n",
       "    </tr>\n",
       "  </thead>\n",
       "  <tbody>\n",
       "    <tr>\n",
       "      <th>0</th>\n",
       "      <td>観光地 1</td>\n",
       "      <td>4.7</td>\n",
       "      <td>4.6</td>\n",
       "      <td>4.5</td>\n",
       "      <td>4.9</td>\n",
       "      <td>4.2</td>\n",
       "    </tr>\n",
       "    <tr>\n",
       "      <th>1</th>\n",
       "      <td>観光地 2</td>\n",
       "      <td>4.7</td>\n",
       "      <td>4.6</td>\n",
       "      <td>4.5</td>\n",
       "      <td>4.9</td>\n",
       "      <td>4.2</td>\n",
       "    </tr>\n",
       "    <tr>\n",
       "      <th>2</th>\n",
       "      <td>観光地 3</td>\n",
       "      <td>4.6</td>\n",
       "      <td>4.5</td>\n",
       "      <td>4.4</td>\n",
       "      <td>4.8</td>\n",
       "      <td>4.1</td>\n",
       "    </tr>\n",
       "    <tr>\n",
       "      <th>3</th>\n",
       "      <td>観光地 4</td>\n",
       "      <td>4.5</td>\n",
       "      <td>4.4</td>\n",
       "      <td>4.4</td>\n",
       "      <td>4.8</td>\n",
       "      <td>4.0</td>\n",
       "    </tr>\n",
       "    <tr>\n",
       "      <th>4</th>\n",
       "      <td>観光地 5</td>\n",
       "      <td>4.5</td>\n",
       "      <td>4.4</td>\n",
       "      <td>4.3</td>\n",
       "      <td>4.7</td>\n",
       "      <td>4.0</td>\n",
       "    </tr>\n",
       "    <tr>\n",
       "      <th>5</th>\n",
       "      <td>観光地 6</td>\n",
       "      <td>4.4</td>\n",
       "      <td>4.3</td>\n",
       "      <td>4.3</td>\n",
       "      <td>4.7</td>\n",
       "      <td>3.9</td>\n",
       "    </tr>\n",
       "    <tr>\n",
       "      <th>6</th>\n",
       "      <td>観光地 7</td>\n",
       "      <td>4.3</td>\n",
       "      <td>4.2</td>\n",
       "      <td>4.2</td>\n",
       "      <td>4.6</td>\n",
       "      <td>3.8</td>\n",
       "    </tr>\n",
       "    <tr>\n",
       "      <th>7</th>\n",
       "      <td>観光地 8</td>\n",
       "      <td>4.3</td>\n",
       "      <td>4.2</td>\n",
       "      <td>4.2</td>\n",
       "      <td>4.6</td>\n",
       "      <td>3.8</td>\n",
       "    </tr>\n",
       "    <tr>\n",
       "      <th>8</th>\n",
       "      <td>観光地 9</td>\n",
       "      <td>4.2</td>\n",
       "      <td>4.1</td>\n",
       "      <td>4.1</td>\n",
       "      <td>4.5</td>\n",
       "      <td>3.7</td>\n",
       "    </tr>\n",
       "    <tr>\n",
       "      <th>9</th>\n",
       "      <td>観光地 10</td>\n",
       "      <td>4.1</td>\n",
       "      <td>4.0</td>\n",
       "      <td>4.1</td>\n",
       "      <td>4.4</td>\n",
       "      <td>3.6</td>\n",
       "    </tr>\n",
       "  </tbody>\n",
       "</table>\n",
       "</div>"
      ],
      "text/plain": [
       "      観光地  評価点  楽しさ  人混みの多さ   景色  アクセス\n",
       "0   観光地 1  4.7  4.6     4.5  4.9   4.2\n",
       "1   観光地 2  4.7  4.6     4.5  4.9   4.2\n",
       "2   観光地 3  4.6  4.5     4.4  4.8   4.1\n",
       "3   観光地 4  4.5  4.4     4.4  4.8   4.0\n",
       "4   観光地 5  4.5  4.4     4.3  4.7   4.0\n",
       "5   観光地 6  4.4  4.3     4.3  4.7   3.9\n",
       "6   観光地 7  4.3  4.2     4.2  4.6   3.8\n",
       "7   観光地 8  4.3  4.2     4.2  4.6   3.8\n",
       "8   観光地 9  4.2  4.1     4.1  4.5   3.7\n",
       "9  観光地 10  4.1  4.0     4.1  4.4   3.6"
      ]
     },
     "execution_count": 182,
     "metadata": {},
     "output_type": "execute_result"
    }
   ],
   "source": [
    "df"
   ]
  },
  {
   "cell_type": "code",
   "execution_count": 183,
   "id": "a55cbfa9-ba8a-43d5-89dc-a96eedc67e5f",
   "metadata": {},
   "outputs": [],
   "source": [
    "df.to_csv('観光地情報.csv', index=False)"
   ]
  },
  {
   "cell_type": "code",
   "execution_count": null,
   "id": "262f98b2-c114-4769-b41d-45729dad7885",
   "metadata": {},
   "outputs": [],
   "source": []
  },
  {
   "cell_type": "markdown",
   "id": "4648ac46-b1ae-4be3-ba87-968f3207d1cf",
   "metadata": {},
   "source": [
    "## 画像の取得＆保存"
   ]
  },
  {
   "cell_type": "code",
   "execution_count": null,
   "id": "e9d1cac6-2bd1-452c-a246-2d876367cfa6",
   "metadata": {},
   "outputs": [],
   "source": [
    "import requests\n",
    "from bs4 import BeautifulSoup"
   ]
  },
  {
   "cell_type": "code",
   "execution_count": 184,
   "id": "b87acf01-a1c5-4687-8302-de3a3a5283f4",
   "metadata": {
    "tags": []
   },
   "outputs": [],
   "source": [
    "url = 'https://scraping-for-beginner.herokuapp.com/image'\n",
    "res = requests.get(url)"
   ]
  },
  {
   "cell_type": "code",
   "execution_count": 185,
   "id": "b2ee365b-e452-4922-9e3e-f7672fb3ae0e",
   "metadata": {},
   "outputs": [
    {
     "data": {
      "text/plain": [
       "<Response [200]>"
      ]
     },
     "execution_count": 185,
     "metadata": {},
     "output_type": "execute_result"
    }
   ],
   "source": [
    "res"
   ]
  },
  {
   "cell_type": "code",
   "execution_count": 189,
   "id": "60fa4fdc-4049-42bd-99a9-200da47557d9",
   "metadata": {
    "scrolled": true,
    "tags": []
   },
   "outputs": [
    {
     "name": "stdout",
     "output_type": "stream",
     "text": [
      "<!DOCTYPE html>\n",
      "<html dir=\"ltr\" lang=\"en\">\n",
      " <head>\n",
      "  <meta charset=\"utf-8\"/>\n",
      "  <title>\n",
      "   Webスクレイピング入門者のためのサイト\n",
      "  </title>\n",
      "  <!-- Compiled and minified CSS -->\n",
      "  <link href=\"https://cdnjs.cloudflare.com/ajax/libs/materialize/1.0.0-rc.2/css/materialize.min.css\" rel=\"stylesheet\"/>\n",
      "  <link href=\"https://fonts.googleapis.com/icon?family=Material+Icons\" rel=\"stylesheet\"/>\n",
      " \n",
      "  <link href=\"static/assets/css/style.css\" rel=\"stylesheet\"/>\n",
      "  <link href=\"static/assets/css/image.css\" rel=\"stylesheet\"/>\n",
      " </head>\n",
      " <body>\n",
      "  <!-- Navbar -->\n",
      "  <div class=\"navbar-fixed\">\n",
      "   <!-- Dropdown Structure -->\n",
      "   <nav class=\"\">\n",
      "    <div class=\"nav-wrapper row\">\n",
      "     <div class=\"col s5 l4 offset-s1 offset-l1\">\n",
      "      <a class=\"brand-logo\" href=/\">\n",
      "       Webスクレイピング入門\n",
      "      </a>\n",
      "     </div>\n",
      "     <div class=\"col s5 l6\">\n",
      "      <ul class=\"right hide-on-med-and-down\" id=\"nav-mobile\">\n",
      "       <li>\n",
      "        <a class=\"\" href=/login_page\">\n",
      "         ログイン\n",
      "        </a>\n",
      "       </li>\n",
      "       <li>\n",
      "        <a class=\"\" href=\"/ranking/\">\n",
      "         ランキング\n",
      "        </a>\n",
      "       </li>\n",
      "       <li>\n",
      "        <a class=\"\" href=\"/image\">\n",
      "         画像\n",
      "        </a>\n",
      "       </li>\n",
      "       <li>\n",
      "        <a class=\"\" href=\"/udemy\">\n",
      "         Udemy\n",
      "        </a>\n",
      "       </li>\n",
      "       <li>\n",
      "        <a class=\"\" href=\"https://scraping-for-beginner.readthedocs.io/\" target=\"”_blank”\">\n",
      "         サンプルコード\n",
      "        </a>\n",
      "       </li>\n",
      "      </ul>\n",
      "     </div>\n",
      "    </div>\n",
      "   </nav>\n",
      "  </div>\n",
      "  <div class=\"section\">\n",
      "  </div>\n",
      "  <!-- Header -->\n",
      "  <!-- <div class=\"header\">\n",
      "  <img src=\"/static/assets/img/camera_icon.png\" width=\"100px\">\n",
      "  <h4 class=\"grey-text text-darken-3\">写真一覧</h4>\n",
      "</div> -->\n",
      "  <!-- Photo Grid -->\n",
      "  <div class=\"container\">\n",
      "   <div class=\"row card\">\n",
      "    <div class=\"col s12 m6 l4\">\n",
      "     <img class=\"materialbox responsive-img card\" src=\"/static/assets/img/img1.JPG\"/>\n",
      "    </div>\n",
      "    <div class=\"col s12 m6 l4\">\n",
      "     <img class=\"materialbox responsive-img card\" src=\"/static/assets/img/img2.JPG\"/>\n",
      "    </div>\n",
      "    <div class=\"col s12 m6 l4\">\n",
      "     <img class=\"materialbox responsive-img card\" src=\"/static/assets/img/img3.JPG\"/>\n",
      "    </div>\n",
      "    <div class=\"col s12 m6 l4\">\n",
      "     <img class=\"materialbox responsive-img card\" src=\"/static/assets/img/img4.JPG\"/>\n",
      "    </div>\n",
      "    <div class=\"col s12 m6 l4\">\n",
      "     <img class=\"materialbox responsive-img card\" src=\"/static/assets/img/img5.JPG\"/>\n",
      "    </div>\n",
      "    <div class=\"col s12 m6 l4\">\n",
      "     <img class=\"materialbox responsive-img card\" src=\"/static/assets/img/img6.JPG\"/>\n",
      "    </div>\n",
      "    <div class=\"col s12 m6 l4\">\n",
      "     <img class=\"materialbox responsive-img card\" src=\"/static/assets/img/img7.JPG\"/>\n",
      "    </div>\n",
      "    <div class=\"col s12 m6 l4\">\n",
      "     <img class=\"materialbox responsive-img card\" src=\"/static/assets/img/img8.JPG\"/>\n",
      "    </div>\n",
      "    <div class=\"col s12 m6 l4\">\n",
      "     <img class=\"materialbox responsive-img card\" src=\"/static/assets/img/img9.JPG\"/>\n",
      "    </div>\n",
      "    <div class=\"col s12 m6 l4\">\n",
      "     <img class=\"materialbox responsive-img card\" src=\"/static/assets/img/img10.JPG\"/>\n",
      "    </div>\n",
      "    <div class=\"col s12 m6 l4\">\n",
      "     <img class=\"materialbox responsive-img card\" src=\"/static/assets/img/img11.JPG\"/>\n",
      "    </div>\n",
      "    <div class=\"col s12 m6 l4\">\n",
      "     <img class=\"materialbox responsive-img card\" src=\"/static/assets/img/img12.JPG\"/>\n",
      "    </div>\n",
      "    <div class=\"col s12 m6 l4\">\n",
      "     <img class=\"materialbox responsive-img card\" src=\"/static/assets/img/img13.JPG\"/>\n",
      "    </div>\n",
      "    <div class=\"col s12 m6 l4\">\n",
      "     <img class=\"materialbox responsive-img card\" src=\"/static/assets/img/img14.JPG\"/>\n",
      "    </div>\n",
      "    <div class=\"col s12 m6 l4\">\n",
      "     <img class=\"materialbox responsive-img card\" src=\"/static/assets/img/img15.JPG\"/>\n",
      "    </div>\n",
      "    <div class=\"col s12 m6 l4\">\n",
      "     <img class=\"materialbox responsive-img card\" src=\"/static/assets/img/img16.JPG\"/>\n",
      "    </div>\n",
      "    <div class=\"col s12 m6 l4\">\n",
      "     <img class=\"materialbox responsive-img card\" src=\"/static/assets/img/img17.JPG\"/>\n",
      "    </div>\n",
      "    <div class=\"col s12 m6 l4\">\n",
      "     <img class=\"materialbox responsive-img card\" src=\"/static/assets/img/img18.JPG\"/>\n",
      "    </div>\n",
      "    <div class=\"col s12 m6 l4\">\n",
      "     <img class=\"materialbox responsive-img card\" src=\"/static/assets/img/img19.JPG\"/>\n",
      "    </div>\n",
      "    <div class=\"col s12 m6 l4\">\n",
      "     <img class=\"materialbox responsive-img card\" src=\"/static/assets/img/img20.JPG\"/>\n",
      "    </div>\n",
      "    <div class=\"col s12 m6 l4\">\n",
      "     <img class=\"materialbox responsive-img card\" src=\"/static/assets/img/img21.JPG\"/>\n",
      "    </div>\n",
      "    <div class=\"col s12 m6 l4\">\n",
      "     <img class=\"materialbox responsive-img card\" src=\"/static/assets/img/img22.JPG\"/>\n",
      "    </div>\n",
      "    <div class=\"col s12 m6 l4\">\n",
      "     <img class=\"materialbox responsive-img card\" src=\"/static/assets/img/img23.JPG\"/>\n",
      "    </div>\n",
      "    <div class=\"col s12 m6 l4\">\n",
      "     <img class=\"materialbox responsive-img card\" src=\"/static/assets/img/img24.JPG\"/>\n",
      "    </div>\n",
      "   </div>\n",
      "  </div>\n",
      "  <div class=\"section\">\n",
      "  </div>\n",
      "  <div class=\"section\">\n",
      "  </div>\n",
      "  <!-- Compiled and minified JavaScript -->\n",
      "  <script src=\"https://code.jquery.com/jquery-3.3.1.min.js\">\n",
      "  </script>\n",
      "  <script src=\"https://cdnjs.cloudflare.com/ajax/libs/materialize/1.0.0-rc.2/js/materialize.min.js\">\n",
      "  </script>\n",
      "  <script>\n",
      "   $(document).ready(function() {\n",
      "    $(\".dropdown-trigger\").dropdown();\n",
      "    $('.materialbox').materialbox();\n",
      "  });\n",
      "  </script>\n",
      " </body>\n",
      "</html>\n"
     ]
    }
   ],
   "source": [
    "soup = BeautifulSoup(res.text, 'html.parser')\n",
    "print(soup.prettify())"
   ]
  },
  {
   "cell_type": "code",
   "execution_count": 192,
   "id": "787c88ed-c88a-49e9-8001-743f7bd5a956",
   "metadata": {},
   "outputs": [
    {
     "data": {
      "text/plain": [
       "'/static/assets/img/img1.JPG'"
      ]
     },
     "execution_count": 192,
     "metadata": {},
     "output_type": "execute_result"
    }
   ],
   "source": [
    "img_tag = soup.find('img')\n",
    "img_tag['src']"
   ]
  },
  {
   "cell_type": "code",
   "execution_count": 194,
   "id": "6970afb2-26c4-42af-bd85-5e647f740d14",
   "metadata": {},
   "outputs": [
    {
     "data": {
      "text/plain": [
       "'https://scraping-for-beginner.herokuapp.com/static/assets/img/img1.JPG'"
      ]
     },
     "execution_count": 194,
     "metadata": {},
     "output_type": "execute_result"
    }
   ],
   "source": [
    "root_url = 'https://scraping-for-beginner.herokuapp.com'\n",
    "img_url = root_url + img_tag['src']\n",
    "\n",
    "img_url"
   ]
  },
  {
   "cell_type": "code",
   "execution_count": 196,
   "id": "1e31efd7-1fd7-4c2d-8e75-3b711dea9a91",
   "metadata": {},
   "outputs": [],
   "source": [
    "from PIL import Image\n",
    "import io"
   ]
  },
  {
   "cell_type": "code",
   "execution_count": null,
   "id": "d4167679-05e5-4345-b8a4-051eb5d06712",
   "metadata": {},
   "outputs": [],
   "source": [
    "img = Image.open(io.BytesIO(requests.get(img_url).content))\n",
    "img"
   ]
  },
  {
   "cell_type": "code",
   "execution_count": 200,
   "id": "5ca0c27b-73ae-434e-acd0-daf81a117934",
   "metadata": {},
   "outputs": [],
   "source": [
    "img.save('img/sample.jpg')"
   ]
  },
  {
   "cell_type": "code",
   "execution_count": null,
   "id": "543f4210-7b6f-4db4-b809-7f524bceba61",
   "metadata": {},
   "outputs": [],
   "source": []
  },
  {
   "cell_type": "code",
   "execution_count": null,
   "id": "c35ca360-3d65-48ac-bf0e-6bd6ca4cdbee",
   "metadata": {},
   "outputs": [],
   "source": [
    "# soup = BeautifulSoup(res.text, 'html.parser')\n",
    "# img_tag = soup.find('img')\n",
    "\n",
    "# root_url = 'https://scraping-for-beginner.herokuapp.com'\n",
    "# img_url = root_url + img_tag['src']\n",
    "\n",
    "# img = Image.open(io.BytesIO(requests.get(img_url).content))\n",
    "# img.save('img/sample.jpg')\n",
    "\n"
   ]
  },
  {
   "cell_type": "code",
   "execution_count": 201,
   "id": "23fa58b2-1e16-419a-9b0f-f4ba66a0fb48",
   "metadata": {},
   "outputs": [],
   "source": [
    "soup = BeautifulSoup(res.text, 'html.parser')\n",
    "\n",
    "img_tags = soup.find_all('img')\n",
    "for i, img_tag in enumerate(img_tags):\n",
    "    \n",
    "    root_url = 'https://scraping-for-beginner.herokuapp.com'\n",
    "    img_url = root_url + img_tag['src']\n",
    "\n",
    "    img = Image.open(io.BytesIO(requests.get(img_url).content))\n",
    "    img.save(f'img/sample{i}.jpg')"
   ]
  },
  {
   "cell_type": "code",
   "execution_count": null,
   "id": "48831040-8d7b-4472-a8ee-37466d798e8a",
   "metadata": {},
   "outputs": [],
   "source": []
  },
  {
   "cell_type": "code",
   "execution_count": null,
   "id": "a6786a1d-502e-451c-bc53-4463192378e9",
   "metadata": {},
   "outputs": [],
   "source": []
  }
 ],
 "metadata": {
  "kernelspec": {
   "display_name": "Python 3 (ipykernel)",
   "language": "python",
   "name": "python3"
  },
  "language_info": {
   "codemirror_mode": {
    "name": "ipython",
    "version": 3
   },
   "file_extension": ".py",
   "mimetype": "text/x-python",
   "name": "python",
   "nbconvert_exporter": "python",
   "pygments_lexer": "ipython3",
   "version": "3.9.8"
  }
 },
 "nbformat": 4,
 "nbformat_minor": 5
}
